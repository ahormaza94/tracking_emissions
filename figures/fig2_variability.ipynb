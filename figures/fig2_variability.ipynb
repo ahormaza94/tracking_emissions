{
 "cells": [
  {
   "cell_type": "code",
   "execution_count": null,
   "metadata": {
    "collapsed": true
   },
   "outputs": [],
   "source": [
    "%matplotlib inline\n",
    "import sys\n",
    "import os\n",
    "DATA_PATH = os.getenv('DATA_PATH')\n",
    "CODE_PATH = os.getenv('CODE_PATH')\n",
    "FIGURE_PATH = os.getenv('FIGURE_PATH')\n",
    "\n",
    "sys.path.insert(0, os.path.join(CODE_PATH, \"tracking_emissions\"))\n",
    "\n",
    "import pandas as pd\n",
    "import numpy as np\n",
    "import json\n",
    "import re\n",
    "\n",
    "import time\n",
    "\n",
    "from src.load import EGRID, BA_DATA\n",
    "\n",
    "import matplotlib.pyplot as plt\n",
    "import seaborn as sns\n",
    "from mpl_toolkits.axes_grid1.inset_locator import inset_axes\n",
    "\n",
    "from calendar import month_abbr\n",
    "\n",
    "import logging.config\n",
    "logging.config.fileConfig(os.path.join(CODE_PATH, \"tracking_emissions/src/logging.conf\"))\n",
    "logger = logging.getLogger(__name__)\n",
    "                           \n",
    "COLORS = sns.color_palette('muted')"
   ]
  },
  {
   "cell_type": "code",
   "execution_count": null,
   "metadata": {
    "collapsed": true
   },
   "outputs": [],
   "source": [
    "# import matplotlib\n",
    "# matplotlib.font_manager._rebuild()"
   ]
  },
  {
   "cell_type": "code",
   "execution_count": null,
   "metadata": {
    "collapsed": false
   },
   "outputs": [],
   "source": [
    "#plt.style.use('seaborn-paper')\n",
    "plt.rcParams['figure.figsize'] = [6.99, 2.5]\n",
    "plt.rcParams['grid.color'] = 'k'\n",
    "plt.rcParams['axes.grid'] = True\n",
    "plt.rcParams['grid.linestyle'] = ':'\n",
    "plt.rcParams['grid.linewidth'] = 0.5\n",
    "plt.rcParams[\"figure.dpi\"] = 300\n",
    "plt.rcParams[\"figure.dpi\"] = 300\n",
    "plt.rcParams['font.size'] = 10\n",
    "\n",
    "import cmocean\n",
    "cmap = cmocean.cm.cmap_d['phase']"
   ]
  },
  {
   "cell_type": "code",
   "execution_count": null,
   "metadata": {
    "collapsed": false
   },
   "outputs": [],
   "source": [
    "# Set font sizes\n",
    "SMALL_SIZE = 7\n",
    "MEDIUM_SIZE = 8\n",
    "BIGGER_SIZE = 9\n",
    "\n",
    "# column sizes\n",
    "cm_to_in = 0.393701\n",
    "col_width3 = cm_to_in * 17.8\n",
    "col_width2 = cm_to_in * 11.4\n",
    "col_width1 = cm_to_in * 5.3\n",
    "\n",
    "from matplotlib import rcParams\n",
    "rcParams['font.family'] = 'sans-serif'\n",
    "rcParams['font.sans-serif'] = ['Helvetica']\n",
    "\n",
    "plt.rc('font', size=SMALL_SIZE)          # controls default text sizes\n",
    "plt.rc('axes', titlesize=SMALL_SIZE)     # fontsize of the axes title\n",
    "plt.rc('axes', labelsize=MEDIUM_SIZE)    # fontsize of the x and y labels\n",
    "plt.rc('xtick', labelsize=SMALL_SIZE)    # fontsize of the tick labels\n",
    "plt.rc('ytick', labelsize=SMALL_SIZE)    # fontsize of the tick labels\n",
    "plt.rc('legend', fontsize=SMALL_SIZE)    # legend fontsize\n",
    "plt.rc('figure', titlesize=BIGGER_SIZE)  # fontsize of the figure title\n",
    "plt.rc('axes', linewidth=.5)  # fontsize of the figure title\n",
    "plt.rc('xtick.minor', width=.5)  # fontsize of the figure title\n",
    "plt.rc('xtick.major', width=.5)  # fontsize of the figure title\n",
    "plt.rc('ytick.minor', width=.5)  # fontsize of the figure title\n",
    "plt.rc('ytick.major', width=.5)  # fontsize of the figure title\n"
   ]
  },
  {
   "cell_type": "code",
   "execution_count": null,
   "metadata": {
    "collapsed": false
   },
   "outputs": [],
   "source": [
    "co2 = BA_DATA(fileNm=os.path.join(DATA_PATH, \"analysis/SEED_CO2_H.csv\"), variable=\"CO2\")\n",
    "elec = BA_DATA(fileNm=os.path.join(DATA_PATH, \"analysis/SEED_E_H.csv\"), variable=\"E\")\n",
    "co2i = BA_DATA(fileNm=os.path.join(DATA_PATH, \"analysis/SEED_EFs_CO2_H.csv\"), variable=\"CO2i\")"
   ]
  },
  {
   "cell_type": "code",
   "execution_count": null,
   "metadata": {
    "collapsed": true
   },
   "outputs": [],
   "source": [
    "# P10/P50/P90 of production and consumption emissions"
   ]
  },
  {
   "cell_type": "code",
   "execution_count": null,
   "metadata": {
    "collapsed": false
   },
   "outputs": [],
   "source": [
    "cmap = sns.color_palette(\"RdYlGn\", 9)[-1::-1]\n",
    "sns.palplot(cmap)"
   ]
  },
  {
   "cell_type": "code",
   "execution_count": null,
   "metadata": {
    "collapsed": false
   },
   "outputs": [],
   "source": [
    "# Create colormap\n",
    "cmap = sns.color_palette(\"RdYlGn\", 9)[-1::-1]\n",
    "thresh = [100, 200, 300, 400, 500, 600, 700, 900]\n",
    "def get_color(n):\n",
    "    # Searching for the position \n",
    "    index = len(thresh)\n",
    "    for i in range(len(thresh)): \n",
    "        if thresh[i] > n: \n",
    "            index = i \n",
    "            break\n",
    "    return cmap[index]\n",
    "get_color(899)"
   ]
  },
  {
   "cell_type": "code",
   "execution_count": null,
   "metadata": {
    "collapsed": true
   },
   "outputs": [],
   "source": [
    "savePlots = True"
   ]
  },
  {
   "cell_type": "code",
   "execution_count": null,
   "metadata": {
    "collapsed": true
   },
   "outputs": [],
   "source": [
    "acronyms = {\n",
    "    \"AZPS\": \"Arizona Pub. Service Co.\",\n",
    "    \"BANC\": \"BA of Northern California\",\n",
    "    \"BPAT\": \"Bonneville Power\",\n",
    "    \"CISO\": \"California ISO\",\n",
    "    \"CPLE\": \"Duke Energy Progress East\",\n",
    "    \"DUK\": \"Duke Energy Carolinas\",\n",
    "    \"EPE\": \"El Paso Electric Company\",\n",
    "    \"ERCO\": \"Elec. Rel. Council Texas\",\n",
    "    \"FPC\": \"Duke Energy Florida\",\n",
    "    \"FPL\": \"Florida Power & Light\",\n",
    "    \"IPCO\": \"Idaho Power Company\",\n",
    "    \"ISNE\": \"New England ISO\",\n",
    "    \"LDWP\": \"Los Angeles Department of Water and Power\",\n",
    "    \"MISO\": \"Midcontinent ISO\",\n",
    "    \"NEVP\": \"Nevada Power Co.\",\n",
    "    \"NWMT\": \"NorthWestern Corp\",\n",
    "    \"NYIS\": \"New York ISO\",\n",
    "    \"OVEC\": \"Ohio Valley\", #\"Ohio Valley Electric Corporation\",\n",
    "    \"PACE\": \"PacifiCorp East\",\n",
    "    \"PGE\": \"Portland General Electric\",\n",
    "    \"PJM\": \"PJM Interconnection\",\n",
    "    \"PNM\": \"Pub. Service Co. New Mexico\",\n",
    "    \"PSCO\": \"Pub. Service Co. Colorado\",\n",
    "    \"PSEI\": \"Puget Sound Energy\",\n",
    "    \"SEC\": \"Seminole Electric Cooperative\",\n",
    "    \"SOCO\": \"Southern Co. Services\",\n",
    "    \"SRP\": \"Salt River Project\",\n",
    "    \"SWPP\": \"Southwest Power Pool\",\n",
    "    \"TVA\": \"Tennessee Valley\",\n",
    "    \"WACM\": \"\"#\"Western Area Power Administration\"\n",
    "}"
   ]
  },
  {
   "cell_type": "code",
   "execution_count": null,
   "metadata": {
    "collapsed": false
   },
   "outputs": [],
   "source": [
    "import matplotlib\n",
    "matplotlib.__version__"
   ]
  },
  {
   "cell_type": "code",
   "execution_count": null,
   "metadata": {
    "collapsed": false
   },
   "outputs": [],
   "source": [
    "ba_list = [\"CISO\", \"MISO\", \"PJM\", \"WACM\", \"BPAT\", \"SWPP\",\n",
    "          \"FPC\", \"PSCO\", \"FPL\", \"IPCO\", \"EPE\", \"NYIS\", \"NEVP\",\n",
    "           \"ISNE\", \"SRP\", \"OVEC\", \"SEC\", \"NWMT\", \"SOCO\", \"PACE\",\n",
    "          \"ERCO\", \"TVA\", \"AZPS\", \"DUK\", \"CPLE\", \"PSEI\"]\n",
    "\n",
    "ba_list = [\"CISO\", \"MISO\", \"PJM\", \"WACM\", \"BPAT\", \"SWPP\",\n",
    "          \"FPC\", \"PSCO\", \"FPL\", \"IPCO\", \"NYIS\", \"NEVP\",\n",
    "           \"ISNE\", \"SRP\", \"OVEC\", \"NWMT\", \"SOCO\", \"PACE\",\n",
    "          \"ERCO\", \"AZPS\"]\n",
    "\n",
    "ba_list = [col.split(\"_\")[1] for col in co2i.df.loc[\n",
    "    :, co2i.get_cols(ba_list, field=\"D\")].quantile(\n",
    "        q=.5).sort_values().index]\n",
    "\n",
    "#fig, ax1 = plt.subplots(figsize=(7., 5.))\n",
    "fig, ax1 = plt.subplots(figsize=(col_width3, 3.))\n",
    "\n",
    "ax1.set_yticklabels([])\n",
    "ax1.set_xticklabels([])\n",
    "ax1.set_yticks([])\n",
    "ax1.set_xticks([])\n",
    "ax1.axis('off')\n",
    "\n",
    "# width = 0.35\n",
    "width = 0.90\n",
    "height = 0.62\n",
    "left1 = 0.07\n",
    "bottom = 0.06\n",
    "ax = fig.add_axes([left1, bottom, width, height])\n",
    "\n",
    "bgcolor = \"#D3D3D3\"\n",
    "color = \"#eeeeee\"\n",
    "figcolor = \"#A9A9A9\"\n",
    "# ax1.set_facecolor(figcolor)\n",
    "#ax.set_facecolor()\n",
    "ax.set_facecolor(bgcolor)\n",
    "\n",
    "\n",
    "for iba, ba in enumerate(ba_list):\n",
    "    q = co2i.df.loc[:, co2i.get_cols(ba, field=\"D\")].quantile(q=[.1, .5, .9])\n",
    "    q2 = co2i.df.loc[:, co2i.get_cols(ba, field=\"NG\")].quantile(q=[.1, .5, .9])\n",
    "    ax.plot([iba-.2, iba-.2], [q.values[0], q.values[2]],\n",
    "            marker=\"_\",ms=4,\n",
    "            color=get_color(q.values[1]),\n",
    "            mfc='none', mec='k', mew=2, lw=2,\n",
    "            label='_nolegend_')\n",
    "    ax.plot([iba-.2], [q.values[1]],\n",
    "            marker=\"o\",ms=4,\n",
    "            mfc='none', mec='k', mew=1)\n",
    "    ax.plot([iba+.2, iba+.2], [q2.values[0], q2.values[2]],\n",
    "            marker=\"_\",ms=4,\n",
    "            color=get_color(q2.values[1]),\n",
    "            mfc='k', mec='k', mew=2, lw=2,\n",
    "            label='_nolegend_')\n",
    "    ax.plot([iba+.2], [q2.values[1]],\n",
    "            ls=\"--\",\n",
    "            marker=\"x\",\n",
    "            ms=4, lw=1,\n",
    "            mec='k', mfc='k',\n",
    "            color=get_color(q.values[1]),\n",
    "            label='_nolegend_')\n",
    "    if iba % 2 == 0:\n",
    "            ax.axvspan(iba-.5, iba+.5, color=color)\n",
    "    ax.axvline(iba-.5, lw=.5, color='k')\n",
    "\n",
    "ax.set_ylim([-0,1220])\n",
    "ax.set_xticks(range(len(ba_list)))\n",
    "labels = [\"%s - %s\" % (ba, acronyms[ba]) for ba in ba_list[0:-3]] + [\"%s\" % ba for ba in ba_list[-3:]]\n",
    "#labels[-1] = \"WACM\"\n",
    "ax.set_xticklabels(labels,rotation=28, ha='left')\n",
    "ax.xaxis.tick_top()\n",
    "\n",
    "#ax.set_facecolor(\"#D3D3D3\")\n",
    "\n",
    "\n",
    "\n",
    "\n",
    "\n",
    "ax1.text(0.5, 0.015, \"P10, P50, P90 for hourly consumption- and production-based carbon intensity (kg/MWh)\",\n",
    "         ha='center', transform=ax1.transAxes, fontsize=MEDIUM_SIZE, weight='bold')\n",
    "\n",
    "ax.plot([-1, -1], [0, thresh[0]], color=get_color(0), lw=5,\n",
    "       label='_nolegend_')\n",
    "ax.plot([-1, -1], [thresh[-1], ax.get_ylim()[1]], lw=5,\n",
    "        color=get_color(900), label='_nolegend_')\n",
    "for i in range(len(thresh)-1):\n",
    "    ax.plot([-1, -1], [thresh[i],thresh[i+1]], lw=5,\n",
    "            color=get_color(thresh[i]), label='_nolegend_')\n",
    "ax.set_xlim([-1.5, len(ba_list)-.5])\n",
    "\n",
    "ax.plot([], [], label=\"Production\",\n",
    "            marker=\"x\", ls=\"None\",\n",
    "            ms=4, mfc='none', mec='k', mew=1,)\n",
    "ax.plot([], [], label=\"Consumption\",\n",
    "            marker=\"o\", ls=\"None\",\n",
    "            ms=4, mfc='none', mec='k', mew=1)\n",
    "ax.legend(loc='lower right', bbox_to_anchor=(1, 0.05))\n",
    "ax.xaxis.grid(False)\n",
    "\n",
    "ax.axhline(450, lw=1., color='k', ls='--')\n",
    "props = dict(boxstyle='round', facecolor=bgcolor)\n",
    "ax.text(2,450, 'US average', ha='center', bbox=props)\n",
    "\n",
    "# ax.yaxis.tick_right()\n",
    "plt.subplots_adjust(left=0.005, right=.995, top=.995, bottom=0.005)\n",
    "\n",
    "if savePlots:\n",
    "    fig.savefig(os.path.join(FIGURE_PATH, 'main/fig2.pdf'))\n",
    "#     fig.savefig(os.path.join(FIGURE_PATH, 'main/fig2.png'))"
   ]
  },
  {
   "cell_type": "code",
   "execution_count": null,
   "metadata": {
    "collapsed": false
   },
   "outputs": [],
   "source": [
    "print(len(ba_list))\n",
    "for ba in [\"MISO\", \"CISO\", \"SRP\"]:\n",
    "    print(co2i.df.loc[:, co2i.get_cols(ba, field=\"D\")].quantile(q=[.1, .5, .9]))\n",
    "    print(co2i.df.loc[:, co2i.get_cols(ba, field=\"NG\")].quantile(q=[.1, .5, .9]))"
   ]
  },
  {
   "cell_type": "raw",
   "metadata": {
    "collapsed": true
   },
   "source": [
    "ba_list = [\"CISO\", \"MISO\", \"PJM\", \"WACM\", \"BPAT\", \"SWPP\",\n",
    "          \"FPC\", \"PSCO\", \"FPL\", \"IPCO\", \"EPE\", \"NYIS\", \"NEVP\",\n",
    "           \"ISNE\", \"SRP\", \"OVEC\", \"SEC\", \"NWMT\", \"SOCO\", \"PACE\",\n",
    "          \"ERCO\", \"TVA\", \"AZPS\", \"DUK\", \"CPLE\", \"PSEI\"]\n",
    "\n",
    "ba_list = [col.split(\"_\")[1] for col in co2i.df.loc[\n",
    "    :, co2i.get_cols(ba_list, field=\"D\")].quantile(\n",
    "        q=.5).sort_values().index]\n",
    "\n",
    "#fig, ax1 = plt.subplots(figsize=(7., 5.))\n",
    "fig, ax1 = plt.subplots(figsize=(col_width2, col_width2))\n",
    "\n",
    "ax1.set_yticklabels([])\n",
    "ax1.set_xticklabels([])\n",
    "ax1.set_yticks([])\n",
    "ax1.set_xticks([])\n",
    "\n",
    "# width = 0.35\n",
    "width = 0.45\n",
    "height = 0.88\n",
    "left1 = 0.02\n",
    "bottom = 0.1\n",
    "ax = fig.add_axes([left1, bottom, width, height])\n",
    "\n",
    "for iba, ba in enumerate(ba_list):\n",
    "    q = co2i.df.loc[:, co2i.get_cols(ba, field=\"D\")].quantile(q=[.1, .5, .9])\n",
    "    q2 = co2i.df.loc[:, co2i.get_cols(ba, field=\"NG\")].quantile(q=[.1, .5, .9])\n",
    "    ax.plot(q.values, [iba-.25, iba-.25, iba-.25],\n",
    "            marker=\"o\",ms=4, color=get_color(q.values[1]),\n",
    "           label='_nolegend_')\n",
    "    ax.plot(q2.values, [iba+.25, iba+.25, iba+.25],\n",
    "            ls=\":\",\n",
    "            marker=\"v\",\n",
    "            ms=4,\n",
    "            color=get_color(q.values[1]),\n",
    "            label='_nolegend_')\n",
    "\n",
    "ax.set_xlim([0,1200])\n",
    "ax.set_yticks(range(len(ba_list)))\n",
    "labels = [\"%s - %s\" % (ba, acronyms[ba]) for ba in ba_list]\n",
    "labels[-1] = \"WACM\"\n",
    "ax.set_yticklabels(labels)\n",
    "\n",
    "\n",
    "#ax.set_facecolor(\"#D3D3D3\")\n",
    "ax1.set_facecolor(\"#A9A9A9\")\n",
    "ax.set_facecolor(\"#D3D3D3\")\n",
    "\n",
    "ax1.text(0.02, 0.01, \"P10, P50, P90 for consumption-based carbon intensity (kg/MWh)\",\n",
    "         ha='left', transform=ax1.transAxes, fontsize=BIGGER_SIZE)\n",
    "\n",
    "ax.plot([0, thresh[0]], [-1, -1], color=get_color(0), lw=3,\n",
    "       label='_nolegend_')\n",
    "ax.plot([thresh[-1], ax.get_xlim()[1]], [-1, -1], lw=3,\n",
    "        color=get_color(900), label='_nolegend_')\n",
    "for i in range(len(thresh)-1):\n",
    "    ax.plot([thresh[i],thresh[i+1]], [-1, -1],  lw=3,\n",
    "            color=get_color(thresh[i]), label='_nolegend_')\n",
    "ax.set_ylim([-1.25, len(ba_list)])\n",
    "\n",
    "ax.plot([], [], label=\"Production\", ls=\":\",\n",
    "            marker=\"v\",\n",
    "            ms=4,color='k')\n",
    "ax.plot([], [], label=\"Consumption\",\n",
    "            marker=\"o\",\n",
    "            ms=4,color='k')\n",
    "ax.legend(loc='lower right', bbox_to_anchor=(1, 0.05))\n",
    "\n",
    "ax.yaxis.tick_right()\n",
    "plt.subplots_adjust(left=0.005, right=.995, top=.995, bottom=0.005)\n",
    "\n",
    "if savePlots:\n",
    "    fig.savefig(os.path.join(FIGURE_PATH, 'main/variability.pdf'))\n",
    "    fig.savefig(os.path.join(FIGURE_PATH, 'main/variability.png'))"
   ]
  },
  {
   "cell_type": "code",
   "execution_count": null,
   "metadata": {
    "collapsed": true
   },
   "outputs": [],
   "source": []
  }
 ],
 "metadata": {
  "anaconda-cloud": {},
  "kernelspec": {
   "display_name": "Python 3",
   "language": "python",
   "name": "python3"
  },
  "language_info": {
   "codemirror_mode": {
    "name": "ipython",
    "version": 3
   },
   "file_extension": ".py",
   "mimetype": "text/x-python",
   "name": "python",
   "nbconvert_exporter": "python",
   "pygments_lexer": "ipython3",
   "version": "3.6.6"
  }
 },
 "nbformat": 4,
 "nbformat_minor": 2
}
