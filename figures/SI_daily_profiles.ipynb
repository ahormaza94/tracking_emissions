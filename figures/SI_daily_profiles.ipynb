{
 "cells": [
  {
   "cell_type": "code",
   "execution_count": null,
   "metadata": {
    "collapsed": true
   },
   "outputs": [],
   "source": [
    "%matplotlib inline\n",
    "import sys\n",
    "import os\n",
    "DATA_PATH = os.getenv('DATA_PATH')\n",
    "CODE_PATH = os.getenv('CODE_PATH')\n",
    "FIGURE_PATH = os.getenv('FIGURE_PATH')\n",
    "\n",
    "sys.path.insert(0, os.path.join(CODE_PATH, \"tracking_emissions\"))\n",
    "\n",
    "import pandas as pd\n",
    "import numpy as np\n",
    "import json\n",
    "import re\n",
    "\n",
    "import time\n",
    "\n",
    "from src.load import EGRID, BA_DATA\n",
    "\n",
    "import matplotlib.pyplot as plt\n",
    "import seaborn as sns\n",
    "from mpl_toolkits.axes_grid1.inset_locator import inset_axes\n",
    "\n",
    "from calendar import month_abbr\n",
    "\n",
    "import logging.config\n",
    "logging.config.fileConfig(os.path.join(CODE_PATH, \"tracking_emissions/src/logging.conf\"))\n",
    "logger = logging.getLogger(__name__)\n",
    "                           \n",
    "COLORS = sns.color_palette('muted')"
   ]
  },
  {
   "cell_type": "code",
   "execution_count": null,
   "metadata": {
    "collapsed": false
   },
   "outputs": [],
   "source": [
    "plt.style.use('seaborn-paper')\n",
    "plt.rcParams['figure.figsize'] = [6.99, 2.5]\n",
    "plt.rcParams['grid.color'] = 'k'\n",
    "plt.rcParams['axes.grid'] = True\n",
    "plt.rcParams['grid.linestyle'] = ':'\n",
    "plt.rcParams['grid.linewidth'] = 0.5\n",
    "plt.rcParams[\"figure.dpi\"] = 200\n",
    "plt.rcParams[\"figure.dpi\"] = 200\n",
    "plt.rcParams['font.size'] = 10\n",
    "\n",
    "import cmocean\n",
    "cmap = cmocean.cm.cmap_d['phase']"
   ]
  },
  {
   "cell_type": "code",
   "execution_count": null,
   "metadata": {
    "collapsed": false
   },
   "outputs": [],
   "source": [
    "co2 = BA_DATA(fileNm=os.path.join(DATA_PATH, \"analysis/SEED_CO2_H.csv\"), variable=\"CO2\")\n",
    "elec = BA_DATA(fileNm=os.path.join(DATA_PATH, \"analysis/SEED_E_H.csv\"), variable=\"E\")\n",
    "co2i = BA_DATA(fileNm=os.path.join(DATA_PATH, \"analysis/SEED_EFs_CO2_H.csv\"), variable=\"CO2i\")"
   ]
  },
  {
   "cell_type": "code",
   "execution_count": null,
   "metadata": {
    "collapsed": true
   },
   "outputs": [],
   "source": [
    "# Make sure directory exists\n",
    "os.makedirs(os.path.join(FIGURE_PATH, \"si\", \"daily_profiles\"), exist_ok=True)"
   ]
  },
  {
   "cell_type": "markdown",
   "metadata": {},
   "source": [
    "# Version 1"
   ]
  },
  {
   "cell_type": "code",
   "execution_count": null,
   "metadata": {
    "collapsed": false
   },
   "outputs": [],
   "source": [
    "# Load gen mixes\n",
    "egrid = EGRID()\n",
    "df_mix = egrid.df[[\"BACODE\"]+[col for col in egrid.df.columns if \"PR\" in col]]\n",
    "df_mix.set_index(\"BACODE\", inplace=True)"
   ]
  },
  {
   "cell_type": "code",
   "execution_count": null,
   "metadata": {
    "collapsed": false
   },
   "outputs": [],
   "source": [
    "df_mix.head()"
   ]
  },
  {
   "cell_type": "code",
   "execution_count": null,
   "metadata": {
    "collapsed": true
   },
   "outputs": [],
   "source": [
    "Pacific = -7\n",
    "Mountain = -6\n",
    "Arizona = -6\n",
    "Eastern = -4\n",
    "Central = -5\n",
    "ba_dict = {\"CISO\":Pacific, \"BPAT\":Pacific, \"NWMT\":Mountain,\n",
    "           \"MISO\":Eastern, \"PJM\":Eastern, \"AZPS\":Arizona,\n",
    "           \"ERCO\":Central, \"SWPP\":Central, \"PACW\":Pacific,\n",
    "           \"SOCO\":Central, \"NYIS\":Eastern, \"ISNE\":Eastern,\n",
    "           \"FPL\":Eastern, \"ERCO\":Central, \"TVA\":Central,\n",
    "           \"DUK\":Eastern, \"CPLE\":Eastern, \"WACM\":Arizona,\n",
    "           \"FPC\":Eastern, \"PSCO\":Mountain, \"PACE\":Mountain,\n",
    "           \"SRP\":Arizona, \"WWA\":Mountain, \"GWA\":Mountain,\n",
    "           \"PSEI\":Pacific, \"IPCO\":Pacific, \"SPA\":Central,\n",
    "           \"OVEC\":Eastern, \"NEVP\":Pacific, \"BANC\":Pacific,\n",
    "           \"LDWP\":Pacific, \"PNM\":Arizona}"
   ]
  },
  {
   "cell_type": "code",
   "execution_count": null,
   "metadata": {
    "collapsed": true
   },
   "outputs": [],
   "source": [
    "col_name_map = dict(zip(\n",
    "        [\"coal\", \"oil\", \"gas\", \"nuclear\", \"hydro\", \"biomass\", \"wind\", \"solar\", \"geothermal\", \"other fossil\", \"other\"],\n",
    "        [\"BACLPR\", \"BAOLPR\", \"BAGSPR\", \"BANCPR\", \"BAHYPR\", \"BABMPR\", \"BAWIPR\", \"BASOPR\", \"BAGTPR\", \"BAOFPR\", \"BAOPPR\"]))\n",
    "pie_colors = dict(zip(\n",
    "        [\"hydro\", \"solar\", \"biomass\", \"nuclear\", \"gas\", \"oil\", \"geothermal\", \"coal\", \"other fossil\", \"wind\", \"other\"],\n",
    "        COLORS + COLORS[8:9]))\n"
   ]
  },
  {
   "cell_type": "code",
   "execution_count": null,
   "metadata": {
    "collapsed": true
   },
   "outputs": [],
   "source": [
    "def dailyProfiles(ba_list=[\"PJM\", \"MISO\", \"CISO\", \"BPAT\"], saveNm=\"si/daily_profiles/daily_profiles\",\n",
    "                  ymax_co2i=800, wleg=True, verb=False):\n",
    "    genmixes = {ba:{k:df_mix.loc[ba, col_name_map[k]] for k in pie_colors.keys()\n",
    "                     if df_mix.loc[ba, col_name_map[k]]>1.} for ba in ba_list}\n",
    "    if verb:\n",
    "        import pprint\n",
    "        pp = pprint.PrettyPrinter(indent=2)\n",
    "        pp.pprint(genmixes)\n",
    "\n",
    "\n",
    "    months = list(range(1,13))\n",
    "    selected_months = [1,3,5,7,9,11]\n",
    "    x = np.linspace(0.0, 1.0, len(selected_months))\n",
    "    cm_colors = cmap(x)[np.newaxis, :, :3][0]\n",
    "\n",
    "    cm_colors = sns.color_palette(\"husl\", len(selected_months))\n",
    "\n",
    "    f, (elec_ax, co2i_ax) = plt.subplots(2,4, figsize=(7.4, 3))\n",
    "    for iba, ba in enumerate(ba_list):\n",
    "        df_plot = elec.df.loc[:,elec.get_cols(ba, field=\"D\")].copy(deep=True)\n",
    "        df_plot2 = co2i.df.loc[:, co2i.get_cols(ba, field=\"D\")].copy(deep=True)\n",
    "\n",
    "        utc_offset = ba_dict[ba]\n",
    "\n",
    "        df_plot.index += pd.Timedelta('%dh' % utc_offset)\n",
    "        df_plot[\"MONTH\"] = df_plot.index.month\n",
    "        df_plot[\"HOUR\"] = df_plot.index.hour\n",
    "        df_plot2.index += pd.Timedelta('%dh' % utc_offset)\n",
    "        df_plot2[\"MONTH\"] = df_plot2.index.month\n",
    "        df_plot2[\"HOUR\"] = df_plot2.index.hour\n",
    "\n",
    "        grp_c_e = df_plot.loc[:,elec.get_cols(ba, field=\"D\") + [\"MONTH\", \"HOUR\"]].groupby([\"MONTH\", \"HOUR\"]).median()\n",
    "\n",
    "        grp_ci = df_plot2.loc[:,co2i.get_cols(ba, field=\"D\") + [\"MONTH\", \"HOUR\"]].groupby([\"MONTH\", \"HOUR\"]).median()\n",
    "\n",
    "\n",
    "\n",
    "        label = '_nolegend_'\n",
    "        for im, m in enumerate(selected_months):\n",
    "            if iba == 3:\n",
    "                label = month_abbr[m]\n",
    "            elec_ax[iba].plot(grp_c_e.loc[m, elec.get_cols(ba, field=\"D\")]/1e3, label='_nolegend_', color=cm_colors[im], lw=1)\n",
    "            co2i_ax[iba].plot(grp_ci.loc[m, co2i.get_cols(ba, field=\"D\")], label=label, color=cm_colors[im], lw=1)\n",
    "\n",
    "        elec_ax[iba].set_xlim([0,23])\n",
    "        elec_ax[iba].set_ylim(bottom=0,\n",
    "                             top=elec_ax[iba].get_ylim()[1]*1.05)\n",
    "        elec_ax[iba].tick_params(pad=2, direction='in')\n",
    "        elec_ax[iba].set_title(ba)\n",
    "\n",
    "        co2i_ax[iba].set_xlim([0,23])\n",
    "        co2i_ax[iba].set_xlabel('hour')\n",
    "        co2i_ax[iba].set_ylim(bottom=0, top=ymax_co2i)\n",
    "        co2i_ax[iba].tick_params(pad=2, direction='in')\n",
    "\n",
    "\n",
    "\n",
    "    for ax, ba in zip(elec_ax, ba_list):\n",
    "        axins = inset_axes(ax, width=\"100%\", height=\"100%\",\n",
    "                           bbox_to_anchor=(0.3, .05, .6, .6),\n",
    "                           bbox_transform=ax.transAxes)\n",
    "        axins.pie(genmixes[ba].values(), colors=[pie_colors[k] for k in genmixes[ba].keys()])\n",
    "\n",
    "    for lab in [\"coal\", \"oil\", \"gas\", \"nuclear\", \"hydro\", \"wind\", \"solar\", \"biomass\", \"geothermal\"]:\n",
    "        elec_ax[3].plot([], [], color=pie_colors[lab], label=lab, marker='s', linestyle=\"\")\n",
    "\n",
    "    elec_ax[0].set_ylabel('GWh')\n",
    "    co2i_ax[0].set_ylabel('kg/MWh')\n",
    "    #co2i_ax[2].legend(loc='lower center', bbox_to_anchor=(0., -0.6), ncol=1)\n",
    "    if wleg:\n",
    "        co2i_ax[3].legend(loc='lower center', bbox_to_anchor=(1.5, -0.1), ncol=1)\n",
    "        elec_ax[3].legend(loc='lower center', bbox_to_anchor=(1.5, -0.3), ncol=1)\n",
    "\n",
    "    plt.savefig(os.path.join(FIGURE_PATH, '%s.pdf' % saveNm), bbox_inches='tight')\n",
    "#     plt.savefig(os.path.join(FIGURE_PATH, '%s.png' % saveNm), bbox_inches='tight')"
   ]
  },
  {
   "cell_type": "code",
   "execution_count": null,
   "metadata": {
    "collapsed": false
   },
   "outputs": [],
   "source": [
    "dailyProfiles(verb=True)"
   ]
  },
  {
   "cell_type": "markdown",
   "metadata": {
    "collapsed": true
   },
   "source": [
    "# More BAs - SI"
   ]
  },
  {
   "cell_type": "code",
   "execution_count": null,
   "metadata": {
    "collapsed": false,
    "scrolled": false
   },
   "outputs": [],
   "source": [
    "def helper(elec_ax, co2i_ax, ba_list, ymax_co2i):\n",
    "    genmixes = {ba:{k:df_mix.loc[ba, col_name_map[k]] for k in pie_colors.keys()\n",
    "                     if df_mix.loc[ba, col_name_map[k]]>1.} for ba in ba_list}\n",
    "    \n",
    "    \n",
    "    months = list(range(1,13))\n",
    "    selected_months = [1,3,5,7,9,11]\n",
    "    x = np.linspace(0.0, 1.0, len(selected_months))\n",
    "    cm_colors = cmap(x)[np.newaxis, :, :3][0]\n",
    "\n",
    "    cm_colors = sns.color_palette(\"husl\", len(selected_months))\n",
    "    \n",
    "    for iba, ba in enumerate(ba_list):\n",
    "        df_plot = elec.df.loc[:,elec.get_cols(ba, field=\"D\")].copy(deep=True)\n",
    "        df_plot2 = co2i.df.loc[:, co2i.get_cols(ba, field=\"D\")].copy(deep=True)\n",
    "\n",
    "        utc_offset = ba_dict[ba]\n",
    "\n",
    "        df_plot.index += pd.Timedelta('%dh' % utc_offset)\n",
    "        df_plot[\"MONTH\"] = df_plot.index.month\n",
    "        df_plot[\"HOUR\"] = df_plot.index.hour\n",
    "        df_plot2.index += pd.Timedelta('%dh' % utc_offset)\n",
    "        df_plot2[\"MONTH\"] = df_plot2.index.month\n",
    "        df_plot2[\"HOUR\"] = df_plot2.index.hour\n",
    "\n",
    "        grp_c_e = df_plot.loc[:,elec.get_cols(ba, field=\"D\") + [\"MONTH\", \"HOUR\"]].groupby([\"MONTH\", \"HOUR\"]).median()\n",
    "\n",
    "        grp_ci = df_plot2.loc[:,co2i.get_cols(ba, field=\"D\") + [\"MONTH\", \"HOUR\"]].groupby([\"MONTH\", \"HOUR\"]).median()\n",
    "\n",
    "\n",
    "\n",
    "        label = '_nolegend_'\n",
    "        for im, m in enumerate(selected_months):\n",
    "            if iba == 3:\n",
    "                label = month_abbr[m]\n",
    "            elec_ax[iba].plot(grp_c_e.loc[m, elec.get_cols(ba, field=\"D\")]/1e3, label='_nolegend_', color=cm_colors[im], lw=1)\n",
    "            co2i_ax[iba].plot(grp_ci.loc[m, co2i.get_cols(ba, field=\"D\")], label=label, color=cm_colors[im], lw=1)\n",
    "\n",
    "        elec_ax[iba].set_xlim([0,23])\n",
    "        elec_ax[iba].set_ylim(bottom=0,\n",
    "                             top=elec_ax[iba].get_ylim()[1]*1.05)\n",
    "        elec_ax[iba].tick_params(pad=2, direction='in')\n",
    "        elec_ax[iba].set_title(ba)\n",
    "\n",
    "        co2i_ax[iba].set_xlim([0,23])\n",
    "        co2i_ax[iba].set_xlabel('hour')\n",
    "        co2i_ax[iba].set_ylim(bottom=0, top=ymax_co2i)\n",
    "        co2i_ax[iba].tick_params(pad=2, direction='in')\n",
    "\n",
    "\n",
    "\n",
    "    for ax, ba in zip(elec_ax, ba_list):\n",
    "        axins = inset_axes(ax, width=\"100%\", height=\"100%\",\n",
    "                           bbox_to_anchor=(0.3, .05, .6, .6),\n",
    "                           bbox_transform=ax.transAxes)\n",
    "        axins.pie(genmixes[ba].values(), colors=[pie_colors[k] for k in genmixes[ba].keys()])\n",
    "\n",
    "    for lab in [\"coal\", \"oil\", \"gas\", \"nuclear\", \"hydro\", \"wind\", \"solar\", \"biomass\", \"geothermal\"]:\n",
    "        elec_ax[3].plot([], [], color=pie_colors[lab], label=lab, marker='s', linestyle=\"\")\n",
    "\n",
    "    elec_ax[0].set_ylabel('GWh')\n",
    "    co2i_ax[0].set_ylabel('kg/MWh')\n",
    "    \n",
    "\n",
    "\n",
    "def dailyProfiles_si(ba_list, ymax_co2i=[800, 800, 800], saveNm='test'):\n",
    "    months = list(range(1,13))\n",
    "    selected_months = [1,3,5,7,9,11]\n",
    "    x = np.linspace(0.0, 1.0, len(selected_months))\n",
    "    cm_colors = cmap(x)[np.newaxis, :, :3][0]\n",
    "\n",
    "    cm_colors = sns.color_palette(\"husl\", len(selected_months))\n",
    "\n",
    "    nrows = 6\n",
    "    ncols = 4\n",
    "\n",
    "    #f, axes = plt.subplots(3*2, 4, figsize=(7.4, nrows*3))\n",
    "\n",
    "    fig, ax = plt.subplots(figsize=(7.4, 3*3))\n",
    "    plt.subplots_adjust(left=0.01, right=0.99, top=0.99, bottom=0.01)\n",
    "\n",
    "    ax.xaxis.set_ticklabels([])\n",
    "    ax.xaxis.set_ticks([])\n",
    "    ax.yaxis.set_ticklabels([])\n",
    "    ax.yaxis.set_ticks([])\n",
    "\n",
    "    # These are in unitless percentages of the figure size. (0,0 is bottom left)\n",
    "    #left, bottom, width, height = \n",
    "\n",
    "    width = 0.7/4\n",
    "    height = 0.65/6\n",
    "    left = 0.1\n",
    "    bottom = 0.11\n",
    "    wspace = 0.05\n",
    "    hspace1 = 0.02\n",
    "    hspace2 = 0.07\n",
    "\n",
    "    axes = []\n",
    "\n",
    "    totalhspace = nrows/2 * (hspace2 + hspace1)\n",
    "    for r in range(nrows):\n",
    "        axes.append([])\n",
    "        hspace = hspace1\n",
    "        if r%2 == 0:\n",
    "            hspace = hspace2\n",
    "        totalhspace -= hspace\n",
    "        for c in range(ncols):\n",
    "            axes[r].append(fig.add_axes(\n",
    "                    [left + c*(width+wspace),\n",
    "                     bottom + (nrows-r-1)*height + totalhspace,\n",
    "                     width, height])) \n",
    "\n",
    "    for i in range(0,nrows,2):\n",
    "        helper(axes[i], axes[i+1], ba_list[i//2], ymax_co2i[i//2])\n",
    "\n",
    "    axes[4][3].legend(loc='lower center', bbox_to_anchor=(-2.5, -2.05), ncol=5)\n",
    "    axes[5][3].legend(loc='lower center', bbox_to_anchor=(0.2, -.85), ncol=3)\n",
    "\n",
    "    plt.savefig(os.path.join(FIGURE_PATH, '%s.pdf' % saveNm))"
   ]
  },
  {
   "cell_type": "code",
   "execution_count": null,
   "metadata": {
    "collapsed": false,
    "scrolled": false
   },
   "outputs": [],
   "source": [
    "ba_list = [\n",
    "    [\"NYIS\", \"ISNE\", \"AZPS\", \"IPCO\"],\n",
    "    [\"FPL\", \"NEVP\", \"ERCO\", \"SOCO\"],\n",
    "    [\"SRP\", \"PACE\", \"NWMT\", \"WACM\"]]\n",
    "dailyProfiles_si(ba_list, [500, 600, 1200],\n",
    "                 saveNm=\"si/daily_profiles/daily_profiles1\")"
   ]
  },
  {
   "cell_type": "code",
   "execution_count": null,
   "metadata": {
    "collapsed": false
   },
   "outputs": [],
   "source": [
    "ba_list = [\n",
    "    [\"FPC\", \"DUK\", \"SWPP\", \"PSCO\"],\n",
    "    [\"PACW\", \"PSEI\", \"SPA\", \"OVEC\"],\n",
    "    [\"BANC\", \"LDWP\", \"PNM\", \"TVA\"]]\n",
    "dailyProfiles_si(ba_list, [800, 1200, 1000],\n",
    "                 \"si/daily_profiles/daily_profiles2\")"
   ]
  },
  {
   "cell_type": "code",
   "execution_count": null,
   "metadata": {
    "collapsed": true
   },
   "outputs": [],
   "source": []
  },
  {
   "cell_type": "raw",
   "metadata": {
    "collapsed": false
   },
   "source": [
    "dailyProfiles([\"SWPP\", \"SOCO\", \"NYIS\", \"ERCO\"], \"si/daily_profiles/daily_profiles1\")\n",
    "dailyProfiles([\"AZPS\", \"FPL\", \"TVA\", \"ISNE\"], \"si/daily_profiles/daily_profiles2\", wleg=False)\n",
    "dailyProfiles([\"DUK\", \"CPLE\", \"FPC\", \"PSCO\"], \"si/daily_profiles/daily_profiles3\", wleg=False)\n",
    "dailyProfiles([\"WACM\", \"PACE\", \"NWMT\", \"SRP\"], \"si/daily_profiles/daily_profiles4\", 1200, wleg=False)\n",
    "dailyProfiles([\"PSCO\", \"PSEI\", \"SWPP\", \"IPCO\"], \"si/daily_profiles/daily_profiles5\")\n",
    "dailyProfiles([\"SPA\", \"PACW\", \"ERCO\", \"NBSO\"], \"si/daily_profiles/daily_profiles6\")"
   ]
  },
  {
   "cell_type": "code",
   "execution_count": null,
   "metadata": {
    "collapsed": false
   },
   "outputs": [],
   "source": [
    "# Create SI text\n",
    "figtex = r'''\\begin{figure*}%[tbhp]\n",
    "\\centering\n",
    "\\includegraphics[width=17.79cm]{figures/daily_profiles/daily_profiles'''\n",
    "figtex2 = r'''.pdf}\n",
    "\\label{fig:daily_profiles'''\n",
    "\n",
    "figtex3='''}\n",
    "\\caption{Daily profiles (median values for different months and hours of the day, using local time zones) for selected balancing authorities. Top: median electricity consumption and 2016 grid generation mix (excluding imports). Bottom: median carbon intensity of consumption.}\n",
    "\\end{figure*}'''\n",
    "\n",
    "with open(os.path.join(FIGURE_PATH, \"si/daily_profiles/daily_profiles.tex\"), \"w\") as fw:\n",
    "     for i in range(1,3):\n",
    "            fw.write(figtex+str(i)+figtex2+str(i)+figtex3+\"\\n\")"
   ]
  },
  {
   "cell_type": "code",
   "execution_count": null,
   "metadata": {
    "collapsed": true
   },
   "outputs": [],
   "source": []
  },
  {
   "cell_type": "raw",
   "metadata": {},
   "source": [
    "# Version 0\n",
    "Pacific = -7\n",
    "Mountain = -6\n",
    "Arizona = -6\n",
    "Eastern = -4\n",
    "Central = -5\n",
    "ba_dict = {\"CISO\":Pacific, \"BPAT\":Pacific, \"NWMT\":Mountain, \"MISO\":Eastern,\n",
    "           \"PJM\":Eastern, \"AZPS\":Arizona, \"ERCO\":Central, \"SWPP\":Central}\n",
    "\n",
    "ba_list = [\"CISO\", \"BPAT\", \"MISO\", \"PJM\"]\n",
    "\n",
    "months = list(range(1,13))\n",
    "x = np.linspace(0.0, 1.0, len(months))\n",
    "cm_colors = cmap(x)[np.newaxis, :, :3][0]\n",
    "\n",
    "f, (elec_ax, co2i_ax) = plt.subplots(2,4, figsize=(7.4, 3))\n",
    "for iba, ba in enumerate(ba_list):\n",
    "    df_plot = elec.df.loc[:,elec.get_cols(ba, field=\"D\")].copy(deep=True)\n",
    "    df_plot2 = co2i.df.loc[:, co2i.get_cols(ba, field=\"D\")].copy(deep=True)\n",
    "\n",
    "    utc_offset = ba_dict[ba]\n",
    "    \n",
    "    df_plot.index += pd.Timedelta('%dh' % utc_offset)\n",
    "    df_plot[\"MONTH\"] = df_plot.index.month\n",
    "    df_plot[\"HOUR\"] = df_plot.index.hour\n",
    "    df_plot2.index += pd.Timedelta('%dh' % utc_offset)\n",
    "    df_plot2[\"MONTH\"] = df_plot2.index.month\n",
    "    df_plot2[\"HOUR\"] = df_plot2.index.hour\n",
    "    \n",
    "    grp_c_e = df_plot.loc[:,elec.get_cols(ba, field=\"D\") + [\"MONTH\", \"HOUR\"]].groupby([\"MONTH\", \"HOUR\"]).median()\n",
    "    \n",
    "    grp_ci = df_plot2.loc[:,co2i.get_cols(ba, field=\"D\") + [\"MONTH\", \"HOUR\"]].groupby([\"MONTH\", \"HOUR\"]).median()\n",
    "    \n",
    "    selected_months = [1,3,5,7,9,11]\n",
    "\n",
    "    label = '_nolegend_'\n",
    "    for m in selected_months:\n",
    "        if iba == 2:\n",
    "            label = month_abbr[m]\n",
    "        elec_ax[iba].plot(grp_c_e.loc[m, elec.get_cols(ba, field=\"D\")]/1e3, label='_nolegend_', color=cm_colors[m-1], lw=2)\n",
    "        co2i_ax[iba].plot(grp_ci.loc[m, co2i.get_cols(ba, field=\"D\")], label=label, color=cm_colors[m-1], lw=2)\n",
    "    \n",
    "    elec_ax[iba].set_xlim([0,23])\n",
    "    elec_ax[iba].set_ylim(bottom=0,\n",
    "                         top=elec_ax[iba].get_ylim()[1]*1.05)\n",
    "    elec_ax[iba].tick_params(pad=2, direction='in')\n",
    "    elec_ax[iba].set_title(ba)\n",
    "    \n",
    "    co2i_ax[iba].set_xlim([0,23])\n",
    "    co2i_ax[iba].set_xlabel('hour')\n",
    "    co2i_ax[iba].set_ylim(bottom=0, top=800)\n",
    "    co2i_ax[iba].tick_params(pad=2, direction='in')\n",
    "\n",
    "elec_ax[0].set_ylabel('GWh')\n",
    "co2i_ax[0].set_ylabel('kg/MWh')\n",
    "co2i_ax[2].legend(loc='lower center', bbox_to_anchor=(0., -0.6), ncol=6)\n",
    "\n",
    "plt.savefig(os.path.join(FIGURE_PATH, 'main/daily_profiles.pdf'), bbox_inches='tight')\n",
    "plt.savefig(os.path.join(FIGURE_PATH, 'main/daily_profiles.png'), bbox_inches='tight')"
   ]
  }
 ],
 "metadata": {
  "anaconda-cloud": {},
  "kernelspec": {
   "display_name": "Python 3",
   "language": "python",
   "name": "python3"
  },
  "language_info": {
   "codemirror_mode": {
    "name": "ipython",
    "version": 3
   },
   "file_extension": ".py",
   "mimetype": "text/x-python",
   "name": "python",
   "nbconvert_exporter": "python",
   "pygments_lexer": "ipython3",
   "version": "3.6.6"
  }
 },
 "nbformat": 4,
 "nbformat_minor": 2
}
