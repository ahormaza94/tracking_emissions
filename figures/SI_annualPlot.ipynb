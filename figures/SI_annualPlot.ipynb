{
 "cells": [
  {
   "cell_type": "code",
   "execution_count": null,
   "metadata": {
    "collapsed": true
   },
   "outputs": [],
   "source": [
    "%matplotlib inline\n",
    "import sys\n",
    "import os\n",
    "import time\n",
    "start_time = time.time()\n",
    "\n",
    "DATA_PATH = os.getenv('DATA_PATH')\n",
    "CODE_PATH = os.getenv('CODE_PATH')\n",
    "FIGURE_PATH = os.getenv('FIGURE_PATH')\n",
    "\n",
    "sys.path.insert(0, os.path.join(CODE_PATH, \"tracking_emissions\"))\n",
    "\n",
    "import pandas as pd\n",
    "import numpy as np\n",
    "import json\n",
    "import re\n",
    "\n",
    "import time\n",
    "\n",
    "from src.load import EGRID, BA_DATA\n",
    "\n",
    "import matplotlib.pyplot as plt\n",
    "\n",
    "from calendar import month_abbr\n",
    "\n",
    "import logging.config\n",
    "logging.config.fileConfig(os.path.join(CODE_PATH, \"tracking_emissions/src/logging.conf\"))\n",
    "logger = logging.getLogger(__name__)"
   ]
  },
  {
   "cell_type": "code",
   "execution_count": null,
   "metadata": {
    "collapsed": true
   },
   "outputs": [],
   "source": [
    "plt.style.use('seaborn-paper')\n",
    "plt.rcParams['figure.figsize'] = [6.99, 2.5]\n",
    "plt.rcParams['grid.color'] = 'k'\n",
    "plt.rcParams['axes.grid'] = True\n",
    "plt.rcParams['grid.linestyle'] = ':'\n",
    "plt.rcParams['grid.linewidth'] = 0.5\n",
    "plt.rcParams[\"figure.dpi\"] = 200\n",
    "plt.rcParams[\"figure.dpi\"] = 200\n",
    "plt.rcParams['font.size'] = 10\n",
    "\n",
    "import cmocean\n",
    "cmap = cmocean.cm.cmap_d['phase']"
   ]
  },
  {
   "cell_type": "code",
   "execution_count": null,
   "metadata": {
    "collapsed": true
   },
   "outputs": [],
   "source": [
    "# Make sure directory exists\n",
    "os.makedirs(os.path.join(FIGURE_PATH, \"si\", \"annualPlot\"), exist_ok=True)"
   ]
  },
  {
   "cell_type": "code",
   "execution_count": null,
   "metadata": {
    "collapsed": true
   },
   "outputs": [],
   "source": [
    "co2 = BA_DATA(fileNm=os.path.join(DATA_PATH, \"analysis/SEED_CO2_H.csv\"), variable=\"CO2\")\n",
    "elec = BA_DATA(fileNm=os.path.join(DATA_PATH, \"analysis/SEED_E_H.csv\"), variable=\"E\")"
   ]
  },
  {
   "cell_type": "code",
   "execution_count": null,
   "metadata": {
    "collapsed": false
   },
   "outputs": [],
   "source": [
    "def separate_imp_exp(data, ba):\n",
    "\n",
    "    partners = data.get_trade_partners(ba)\n",
    "    imp = 0.\n",
    "    exp = 0.\n",
    "    for ba2 in data.get_trade_partners(ba):\n",
    "        imp += data.df.loc[:, data.KEY[\"ID\"] % (ba,ba2)].apply(lambda x: min(x, 0))\n",
    "        exp += data.df.loc[:, data.KEY[\"ID\"] % (ba,ba2)].apply(lambda x: max(x, 0))\n",
    "    return imp, exp\n"
   ]
  },
  {
   "cell_type": "code",
   "execution_count": null,
   "metadata": {
    "collapsed": true
   },
   "outputs": [],
   "source": [
    "def annualPlot(elec, co2, ba, start=None, end=None, save=False):\n",
    "    if start is None:\n",
    "        start = pd.to_datetime(\"2016-01-01\")\n",
    "    if end is None:\n",
    "        end = pd.to_datetime(\"2017-01-01\")\n",
    "    \n",
    "    \n",
    "    f, (ax1, ax2, ax3, ax4, ax5) = plt.subplots(5, 1, figsize=(10, 12.5))\n",
    "    for ax, data, scale in zip((ax1,ax2), [elec, co2], [1e-3, 1e-3]):\n",
    "        df_plot = data.df.loc[start:end, :]\n",
    "        ax.plot(df_plot.loc[:, data.get_cols(r=ba, field=\"D\")] * scale, label=\"D\")\n",
    "        ax.plot(df_plot.loc[:, data.get_cols(r=ba, field=\"NG\")] * scale, label=\"G\", alpha=0.8)\n",
    "#         ax.plot(df_plot.loc[:, data.get_cols(r=ba, field=\"TI\")] * scale, label=\"I\", alpha=0.7)\n",
    "    \n",
    "    # CO2i plot\n",
    "    co2iD = (1000 * co2.df.loc[:, co2.get_cols(r=ba, field=\"D\")].values.flatten()\n",
    "             / elec.df.loc[:, elec.get_cols(r=ba, field=\"D\")].values.flatten())\n",
    "    co2iG = (1000 * co2.df.loc[:, co2.get_cols(r=ba, field=\"NG\")].values.flatten()\n",
    "             / elec.df.loc[:, elec.get_cols(r=ba, field=\"NG\")].values.flatten())\n",
    "    co2iD[co2iD>2000] = np.nan\n",
    "    co2iG[co2iG>2000] = np.nan\n",
    "\n",
    "#     co2iTI = (1000 * co2.df.loc[:, co2.get_cols(r=ba, field=\"TI\")].values.flatten()\n",
    "#              / elec.df.loc[:, elec.get_cols(r=ba, field=\"TI\")].values.flatten())\n",
    "\n",
    "    impC, expC = separate_imp_exp(co2, ba)\n",
    "    impE, expE = separate_imp_exp(elec, ba)\n",
    "\n",
    "#     co2i_exp = 1000 * expC / expE\n",
    "    co2i_imp = 1000 * impC / impE\n",
    "    \n",
    "    ax1.plot(impE*1e-3, label = \"Imp\", alpha = 0.7)\n",
    "    ax1.plot(expE*1e-3, label = \"Exp\", alpha = 0.7)\n",
    "    \n",
    "    ax2.plot(impC*1e-3, label = \"Imp\", alpha = 0.7)\n",
    "    ax2.plot(expC*1e-3, label = \"Exp\", alpha = 0.7)\n",
    "    \n",
    "    ax3.plot(co2.df.index, co2iD, label=\"D\")\n",
    "    ax3.plot(co2.df.index, co2iG, label=\"G\", alpha = 0.8)\n",
    "    ax3.plot(co2.df.index, co2i_imp, label=\"Imp\", alpha = 0.7)\n",
    "    ax3.set_ylim(bottom=0.)\n",
    "    \n",
    "    for ax, data, scale in zip((ax4,ax5), [elec, co2], [1e-3,1e-3]):\n",
    "        partners = data.get_trade_partners(ba)\n",
    "        df_plot = data.df.loc[start:end, :]\n",
    "        for ba2 in partners:\n",
    "            ax.plot(df_plot.loc[:, data.KEY[\"ID\"] % (ba, ba2)] * scale, label=ba2, alpha=.7)\n",
    "    \n",
    "    f.autofmt_xdate()\n",
    "    ax1.set_title(ba)\n",
    "    ax1.set_ylabel(\"Electricity (GWh)\")\n",
    "    ax2.set_ylabel(\"Carbon (ktons)\")\n",
    "    ax3.set_ylabel(\"Carbon intensity (kg/MWh)\")\n",
    "    ax4.set_ylabel(\"Electricity trade (MWh)\")\n",
    "    ax5.set_ylabel(\"Carbon trade (ktons)\")\n",
    "    \n",
    "    for ax in [ax1, ax2, ax3, ax4,ax5]:\n",
    "        ax.set_xlim([start-pd.Timedelta('3D'), end+pd.Timedelta('33D')])\n",
    "        ax.legend(loc=7);\n",
    "    f.tight_layout()\n",
    "    \n",
    "    if save:\n",
    "        f.savefig(os.path.join(FIGURE_PATH, \"si\", \"annualPlot\",  \"%s.pdf\" % ba))\n",
    "        plt.close(f)\n",
    "    return (f, (ax1, ax2, ax3, ax4, ax5))"
   ]
  },
  {
   "cell_type": "code",
   "execution_count": null,
   "metadata": {
    "collapsed": false
   },
   "outputs": [],
   "source": [
    "ba = \"OVEC\"\n",
    "annualPlot(elec, co2, ba, save=False)\n"
   ]
  },
  {
   "cell_type": "code",
   "execution_count": null,
   "metadata": {
    "collapsed": false
   },
   "outputs": [],
   "source": [
    "for ba in co2.regions:\n",
    "    logger.info(\"%s: annual plot \" % ba)\n",
    "    annualPlot(elec, co2, ba, save=True)\n",
    "    \n",
    "# Special case: California plot - put the CARB number here as well\n",
    "f, (ax1, ax2,ax3,ax4,ax5) = annualPlot(elec, co2, \"CISO\", save=False)\n",
    "ax3.axhline(428, color='k')\n",
    "ax3.text(pd.to_datetime('20160315'),450, 'CARB number for unspecified imports')\n",
    "f.savefig(os.path.join(FIGURE_PATH, \"si\", \"annualPlot\",  \"CISO.pdf\"))\n",
    "plt.close(f)"
   ]
  },
  {
   "cell_type": "code",
   "execution_count": null,
   "metadata": {
    "collapsed": false
   },
   "outputs": [],
   "source": [
    "co2_Y = BA_DATA(fileNm=os.path.join(DATA_PATH, \"analysis/SEED_CO2_Y.csv\"), variable=\"CO2\")\n",
    "elec_Y = BA_DATA(fileNm=os.path.join(DATA_PATH, \"analysis/SEED_E_Y.csv\"), variable=\"E\")\n",
    "so2_Y = BA_DATA(fileNm=os.path.join(DATA_PATH, \"analysis/SEED_SO2_Y.csv\"), variable=\"SO2\")\n",
    "nox_Y = BA_DATA(fileNm=os.path.join(DATA_PATH, \"analysis/SEED_NOX_Y.csv\"), variable=\"NOX\")\n",
    "\n",
    "ordered_bas = [col.split(\"_\")[1] for col in co2_Y.df.loc[:, co2_Y.get_cols(field=\"D\")]\\\n",
    "               .sort_values(by=co2_Y.df.index[0], axis=1, ascending=False).columns]\n",
    "n = len(ordered_bas)//2"
   ]
  },
  {
   "cell_type": "code",
   "execution_count": null,
   "metadata": {
    "collapsed": false
   },
   "outputs": [],
   "source": [
    "# Create SI text\n",
    "figtex = r'''\\begin{figure*}%[tbhp]\n",
    "\\centering\n",
    "\\includegraphics[width=17.79cm]{figures/annualPlot/'''\n",
    "figtex2 = r'''.pdf}\n",
    "\\label{fig:annualPlot_'''\n",
    "\n",
    "figtex3='''}\n",
    "\\caption{Hourly electricity and carbon data.}\n",
    "\\end{figure*}'''\n",
    "\n",
    "with open(os.path.join(FIGURE_PATH, \"si/annualPlot/annualPlot.tex\"), \"w\") as fw:\n",
    "    for ba in ordered_bas:\n",
    "        fw.write(figtex+ba+figtex2+ba+figtex3+\"\\n\")\n",
    "        if ba == ordered_bas[n]:  # flush the floats so LaTeX doesn't complain\n",
    "            fw.write(r'''\\clearpage'''+\"\\n\")"
   ]
  },
  {
   "cell_type": "code",
   "execution_count": null,
   "metadata": {
    "collapsed": false
   },
   "outputs": [],
   "source": [
    "# Create SI table\n",
    "tab_text1 = r'''\\begin{table}\\centering\n",
    "\\caption{Balancing area annual summary for demand (D) and generation (G) of electricity and carbon}\n",
    "\\begin{tabular}{lcccc}\n",
    "&\\multicolumn{2}{c}{Electricity}&\\multicolumn{2}{c}{Carbon}\\\\\n",
    "\\hline\n",
    "BA&D (TWh)&G (TWh)&D (Mtons)&G (Mtons)\\\\\n",
    "\\hline\n",
    "'''\n",
    "tab_text2 = r'''\\hline\n",
    "\\end{tabular}\n",
    "\\qquad\n",
    "\\begin{tabular}{lcccc}\n",
    "&\\multicolumn{2}{c}{Electricity}&\\multicolumn{2}{c}{Carbon}\\\\\n",
    "\\hline\n",
    "BA&D (TWh)&G (TWh)&D (Mtons)&G (Mtons)\\\\\n",
    "\\hline\n",
    "'''\n",
    "tab_text3 = r'''\\hline\n",
    "\\end{tabular}\n",
    "\\end{table}\n",
    "'''\n",
    "with open(os.path.join(FIGURE_PATH, \"si/annualPlot/annualPlot_list1.tex\"), \"w\") as fw:\n",
    "    fw.write(tab_text1)\n",
    "    for ba in ordered_bas[0:n]:\n",
    "        fw.write(\"%s&%7.3g&%7.3g&%7.3g&%7.3g%s\\n\" % (\n",
    "            ba,\n",
    "            elec_Y.df.iloc[0][elec_Y.get_cols(ba, field=\"D\")]*1e-6,\n",
    "            elec_Y.df.iloc[0][elec_Y.get_cols(ba, field=\"NG\")]*1e-6,\n",
    "            co2_Y.df.iloc[0][co2_Y.get_cols(ba, field=\"D\")]*1e-6,\n",
    "            co2_Y.df.iloc[0][co2_Y.get_cols(ba, field=\"NG\")]*1e-6,\n",
    "            r\"\\\\\"))\n",
    "    fw.write(tab_text2)\n",
    "    for ba in ordered_bas[n:]:\n",
    "        fw.write(\"%s&%7.3g&%7.3g&%7.3g&%7.3g%s\\n\" % (\n",
    "            ba,\n",
    "            elec_Y.df.iloc[0][elec_Y.get_cols(ba, field=\"D\")]*1e-6,\n",
    "            elec_Y.df.iloc[0][elec_Y.get_cols(ba, field=\"NG\")]*1e-6,\n",
    "            co2_Y.df.iloc[0][co2_Y.get_cols(ba, field=\"D\")]*1e-6,\n",
    "            co2_Y.df.iloc[0][co2_Y.get_cols(ba, field=\"NG\")]*1e-6,\n",
    "            r\"\\\\\"))\n",
    "    fw.write(tab_text3)\n",
    "\n",
    "tab_text1 = r'''\\begin{table}\\centering\n",
    "\\caption{Balancing area annual summary for demand (D) and generation (G) of sulfur dioxide and nitrogen oxides}\n",
    "\\begin{tabular}{lcccc}\n",
    "&\\multicolumn{2}{c}{Sulfur dioxide}&\\multicolumn{2}{c}{Nitrogen oxides}\\\\\n",
    "\\hline\n",
    "BA&D (ktons)&G (ktons)&D (ktons)&G (ktons)\\\\\n",
    "\\hline\n",
    "'''\n",
    "tab_text2 = r'''\\hline\n",
    "\\end{tabular}\n",
    "\\qquad\n",
    "\\begin{tabular}{lcccc}\n",
    "&\\multicolumn{2}{c}{Sulfur dioxide}&\\multicolumn{2}{c}{Nitrogen oxides}\\\\\n",
    "\\hline\n",
    "BA&D (ktons)&G (ktons)&D (ktons)&G (ktons)\\\\\n",
    "\\hline\n",
    "'''\n",
    "with open(os.path.join(FIGURE_PATH, \"si/annualPlot/annualPlot_list2.tex\"), \"w\") as fw:\n",
    "    fw.write(tab_text1)\n",
    "    for ba in ordered_bas[0:n]:\n",
    "        fw.write(\"%s&%7.3g&%7.3g&%7.3g&%7.3g%s\\n\" % (\n",
    "            ba,\n",
    "            so2_Y.df.iloc[0][so2_Y.get_cols(ba, field=\"D\")]*1e-3,\n",
    "            so2_Y.df.iloc[0][so2_Y.get_cols(ba, field=\"NG\")]*1e-3,\n",
    "            nox_Y.df.iloc[0][nox_Y.get_cols(ba, field=\"D\")]*1e-3,\n",
    "            nox_Y.df.iloc[0][nox_Y.get_cols(ba, field=\"NG\")]*1e-3,\n",
    "            r\"\\\\\"))\n",
    "    fw.write(tab_text2)\n",
    "    for ba in ordered_bas[n:]:\n",
    "        fw.write(\"%s&%7.3g&%7.3g&%7.3g&%7.3g%s\\n\" % (\n",
    "            ba,\n",
    "            so2_Y.df.iloc[0][so2_Y.get_cols(ba, field=\"D\")]*1e-3,\n",
    "            so2_Y.df.iloc[0][so2_Y.get_cols(ba, field=\"NG\")]*1e-3,\n",
    "            nox_Y.df.iloc[0][nox_Y.get_cols(ba, field=\"D\")]*1e-3,\n",
    "            nox_Y.df.iloc[0][nox_Y.get_cols(ba, field=\"NG\")]*1e-3,\n",
    "            r\"\\\\\"))\n",
    "    fw.write(tab_text3)"
   ]
  },
  {
   "cell_type": "code",
   "execution_count": null,
   "metadata": {
    "collapsed": false
   },
   "outputs": [],
   "source": [
    "# dummy file for the Makefile\n",
    "with open(os.path.join(FIGURE_PATH, \"si\", \"annualPlot\", \"dummy\"), \"w\") as fw:\n",
    "    fw.write(\"done\")\n",
    "logger.info(\"Notebook execution time: %.2f seconds\" % (time.time()-start_time))"
   ]
  },
  {
   "cell_type": "code",
   "execution_count": null,
   "metadata": {
    "collapsed": true
   },
   "outputs": [],
   "source": []
  },
  {
   "cell_type": "markdown",
   "metadata": {},
   "source": [
    "# old "
   ]
  },
  {
   "cell_type": "raw",
   "metadata": {},
   "source": [
    "# We no longer save co2_i...\n",
    "\n",
    "def annualPlot1(elec, co2, co2i, ba, start=None, end=None, save=False):\n",
    "    if start is None:\n",
    "        start = pd.to_datetime(\"2016-01-01\")\n",
    "    if end is None:\n",
    "        end = pd.to_datetime(\"2017-01-01\")\n",
    "    \n",
    "    \n",
    "    f, (ax1, ax2,ax3) = plt.subplots(3, 1, figsize=(10, 7.5))\n",
    "    for ax, data, scale in zip((ax1,ax2, ax3), [elec, co2, co2i], [1e-3,1e-3,1]):\n",
    "        df_plot = data.df.loc[start:end, :]\n",
    "        ax.plot(df_plot.loc[:, data.get_cols(r=ba, field=\"D\")] * scale, label=\"D\")\n",
    "        ax.plot(df_plot.loc[:, data.get_cols(r=ba, field=\"NG\")] * scale, label=\"NG\", alpha=0.8)\n",
    "        ax.plot(df_plot.loc[:, data.get_cols(r=ba, field=\"TI\")] * scale, label=\"TI\", alpha=0.7)\n",
    "    f.autofmt_xdate()\n",
    "    ax1.set_title(ba)\n",
    "    ax1.set_ylabel(\"GWh\")\n",
    "    ax2.set_ylabel(\"ktons\")\n",
    "    ax3.set_ylabel(\"kg/MWh\")\n",
    "    \n",
    "    for ax in [ax1,ax2,ax3]:\n",
    "        ax.set_xlim([start-pd.Timedelta('3D'), end+pd.Timedelta('33D')])\n",
    "        ax.legend(loc=7);\n",
    "    f.tight_layout()\n",
    "    \n",
    "    if save:\n",
    "        f.savefig(os.path.join(FIGURE_PATH, \"si\", \"annualPlot1\",  \"%s.pdf\" % ba))\n",
    "        plt.close(f)"
   ]
  },
  {
   "cell_type": "raw",
   "metadata": {},
   "source": [
    "def annualPlot2(elec, co2, ba, start=None, end=None, save=False):\n",
    "    if start is None:\n",
    "        start = pd.to_datetime(\"2016-01-01\")\n",
    "    if end is None:\n",
    "        end = pd.to_datetime(\"2017-01-01\")\n",
    "    \n",
    "    \n",
    "    f, (ax1, ax2, ax3) = plt.subplots(3, 1, figsize=(10, 7.5))\n",
    "    for ax, data, scale in zip((ax1,ax2), [elec, co2], [1e-3,1e-3]):\n",
    "        df_plot = data.df.loc[start:end, :]\n",
    "        ax.plot(df_plot.loc[:, data.get_cols(r=ba, field=\"D\")] * scale, label=\"D\")\n",
    "        ax.plot(df_plot.loc[:, data.get_cols(r=ba, field=\"NG\")] * scale, label=\"G\", alpha=0.8)\n",
    "#         ax.plot(df_plot.loc[:, data.get_cols(r=ba, field=\"TI\")] * scale, label=\"I\", alpha=0.7)\n",
    "    \n",
    "    # CO2i plot\n",
    "    co2iD = (1000 * co2.df.loc[:, co2.get_cols(r=ba, field=\"D\")].values.flatten()\n",
    "             / elec.df.loc[:, elec.get_cols(r=ba, field=\"D\")].values.flatten())\n",
    "    co2iG = (1000 * co2.df.loc[:, co2.get_cols(r=ba, field=\"NG\")].values.flatten()\n",
    "             / elec.df.loc[:, elec.get_cols(r=ba, field=\"NG\")].values.flatten())\n",
    "\n",
    "#     co2iTI = (1000 * co2.df.loc[:, co2.get_cols(r=ba, field=\"TI\")].values.flatten()\n",
    "#              / elec.df.loc[:, elec.get_cols(r=ba, field=\"TI\")].values.flatten())\n",
    "\n",
    "    impC, expC = separate_imp_exp(co2, ba)\n",
    "    impE, expE = separate_imp_exp(elec, ba)\n",
    "\n",
    "#     co2i_exp = 1000 * expC / expE\n",
    "    co2i_imp = 1000 * impC / impE\n",
    "    \n",
    "    ax1.plot(impE*1e-3, label = \"Imp\", alpha = 0.7)\n",
    "    ax1.plot(expE*1e-3, label = \"Exp\", alpha = 0.7)\n",
    "    \n",
    "    ax2.plot(impC*1e-3, label = \"Imp\", alpha = 0.7)\n",
    "    ax2.plot(expC*1e-3, label = \"Exp\", alpha = 0.7)\n",
    "    \n",
    "    ax3.plot(co2.df.index, co2iD, label=\"D\")\n",
    "    ax3.plot(co2.df.index, co2iG, label=\"G\", alpha = 0.8)\n",
    "    ax3.plot(co2.df.index, co2i_imp, label=\"Imp\", alpha = 0.7)\n",
    "    ax3.set_ylim(bottom=0.)\n",
    "    \n",
    "    f.autofmt_xdate()\n",
    "    ax1.set_title(ba)\n",
    "    ax1.set_ylabel(\"Electricity (GWh)\")\n",
    "    ax2.set_ylabel(\"Carbon (ktons)\")\n",
    "    ax3.set_ylabel(\"Carbon intensity (kg/MWh)\")\n",
    "    \n",
    "    for ax in [ax1, ax2, ax3]:\n",
    "        ax.set_xlim([start-pd.Timedelta('3D'), end+pd.Timedelta('33D')])\n",
    "        ax.legend(loc=7);\n",
    "    f.tight_layout()\n",
    "    \n",
    "    if save:\n",
    "        f.savefig(os.path.join(FIGURE_PATH, \"si\", \"annualPlot\",  \"%s.pdf\" % ba))\n",
    "        plt.close(f)\n",
    "    return (f, (ax1, ax2, ax3))"
   ]
  }
 ],
 "metadata": {
  "anaconda-cloud": {},
  "kernelspec": {
   "display_name": "Python 3",
   "language": "python",
   "name": "python3"
  },
  "language_info": {
   "codemirror_mode": {
    "name": "ipython",
    "version": 3
   },
   "file_extension": ".py",
   "mimetype": "text/x-python",
   "name": "python",
   "nbconvert_exporter": "python",
   "pygments_lexer": "ipython3",
   "version": "3.6.6"
  }
 },
 "nbformat": 4,
 "nbformat_minor": 2
}
