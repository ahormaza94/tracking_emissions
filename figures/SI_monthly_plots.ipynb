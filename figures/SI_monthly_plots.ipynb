{
 "cells": [
  {
   "cell_type": "code",
   "execution_count": null,
   "metadata": {
    "collapsed": false
   },
   "outputs": [],
   "source": [
    "%matplotlib inline\n",
    "import sys\n",
    "import os\n",
    "DATA_PATH = os.getenv('DATA_PATH')\n",
    "CODE_PATH = os.getenv('CODE_PATH')\n",
    "FIGURE_PATH = os.getenv('FIGURE_PATH')\n",
    "\n",
    "sys.path.insert(0, os.path.join(CODE_PATH, \"SEED\"))\n",
    "\n",
    "import pandas as pd\n",
    "import numpy as np\n",
    "import json\n",
    "import re\n",
    "\n",
    "import time\n",
    "\n",
    "from src.load import EGRID, BA_DATA\n",
    "\n",
    "import matplotlib.pyplot as plt\n",
    "\n",
    "from calendar import month_abbr\n",
    "\n",
    "import logging.config\n",
    "logging.config.fileConfig(os.path.join(CODE_PATH, \"SEED/src/logging.conf\"))\n",
    "logger = logging.getLogger(__name__)"
   ]
  },
  {
   "cell_type": "code",
   "execution_count": null,
   "metadata": {
    "collapsed": false
   },
   "outputs": [],
   "source": [
    "plt.style.use('seaborn-paper')\n",
    "plt.rcParams['figure.figsize'] = [6.99, 2.5]\n",
    "plt.rcParams['grid.color'] = 'k'\n",
    "plt.rcParams['axes.grid'] = True\n",
    "plt.rcParams['grid.linestyle'] = ':'\n",
    "plt.rcParams['grid.linewidth'] = 0.5\n",
    "plt.rcParams[\"figure.dpi\"] = 200\n",
    "plt.rcParams[\"figure.dpi\"] = 200\n",
    "plt.rcParams['font.size'] = 10\n",
    "\n",
    "import cmocean\n",
    "cmap = cmocean.cm.cmap_d['phase']"
   ]
  },
  {
   "cell_type": "code",
   "execution_count": null,
   "metadata": {
    "collapsed": true
   },
   "outputs": [],
   "source": [
    "def monthlySums(elec, co2, selected = [\"CISO\", \"MISO\", \"PJM\", \"ERCO\", \"ISNE\", \"AZPS\", \"BPAT\"],\n",
    "                savePlots=False, figFolder=\"\"):\n",
    "    \n",
    "    df_plot = []\n",
    "    for i, data in enumerate([elec, co2]):  \n",
    "        df_plot.append(data.df.loc[:, data.get_cols(selected, field=\"D\")\n",
    "                                  + data.get_cols(selected, field=\"NG\")].copy(deep=True))\n",
    "\n",
    "    dates = pd.to_datetime([\"2016-%d-1\"% idx for idx in df_plot[0].index.tolist()])\n",
    "    \n",
    "    f, (ax1, ax2, ax3) = plt.subplots(3, 1, figsize=(3.42, 6))\n",
    "    for i, (ax, data, scale, ylab, title) in enumerate(zip(\n",
    "        (ax1,ax2), [elec, co2], [1e-6,1e-6],\n",
    "            [\"TWh\", \"Mtons\"], [\"Electricity Consumption\", \"Consumption-Based Carbon Emissions\"])):\n",
    "\n",
    "        for ba in selected:\n",
    "            ax.plot(dates, df_plot[i].loc[:, data.get_cols(ba, field=\"D\")] * scale,\n",
    "                    label='_nolegend_', marker='o', markersize=2,\n",
    "                   lw=1)\n",
    "        \n",
    "        ax.set_ylabel(ylab)\n",
    "        ax.set_ylim(bottom=0.)\n",
    "        ax.set_title(title)\n",
    "\n",
    "    for ba in selected:\n",
    "        y2 = 1000*(df_plot[1].loc[:, co2.get_cols(ba, field=\"D\")].values\n",
    "              / df_plot[0].loc[:, elec.get_cols(ba, field=\"D\")].values)\n",
    "        ax3.plot(dates, y2, label=ba, marker='o', markersize=2, lw=1, zorder=10)\n",
    "    \n",
    "    ax3.set_ylabel(\"kg/MWh\")\n",
    "    ax3.set_ylim(bottom=0.)\n",
    "    ax3.set_title(\"Consumption-Based Carbon Intensity\")\n",
    "    \n",
    "    ax3.axhline(458, color='k', ls='--', lw=.5, zorder=2)\n",
    "    #ax3.text(pd.to_datetime(\"2016-1-1\"), 458, 'US')\n",
    "    ax3.set_yticks([0, 150, 300, 450, 600])\n",
    "    ax3.set_yticklabels([0, 150, 300, \"US\\navg\", 600])\n",
    "        \n",
    "    #ax3.plot([], [], c='k', label='Consumption', marker='o', markersize=2, lw=1)\n",
    "    #ax3.plot([], [], c='k', label='Production', ls=\"--\", marker='o', markersize=2, lw=1)\n",
    "    ax3.legend(ncol=4, loc='lower center', bbox_to_anchor=(0.45,-0.8))\n",
    "    f.autofmt_xdate();\n",
    "    plt.subplots_adjust(hspace=0.25)\n",
    "    \n",
    "    if savePlots:\n",
    "        f.savefig(os.path.join(FIGURE_PATH, 'main/monthly_sums.pdf'), bbox_inches='tight')\n",
    "#         f.savefig(os.path.join(FIGURE_PATH, 'main/monthly_sums.png'), bbox_inches='tight')"
   ]
  },
  {
   "cell_type": "code",
   "execution_count": null,
   "metadata": {
    "collapsed": false
   },
   "outputs": [],
   "source": [
    "co2 = BA_DATA(fileNm=os.path.join(DATA_PATH, \"analysis/SEED_CO2_M.csv\"), variable=\"CO2\")\n",
    "elec = BA_DATA(fileNm=os.path.join(DATA_PATH, \"analysis/SEED_E_M.csv\"), variable=\"E\")\n",
    "\n",
    "selected = [\"CISO\", \"BPAT\", \"NYIS\", \"PJM\", \"MISO\", \"ERCO\", \"SWPP\"]\n",
    "monthlySums(elec, co2,selected=selected, savePlots=True)"
   ]
  },
  {
   "cell_type": "code",
   "execution_count": null,
   "metadata": {
    "collapsed": false
   },
   "outputs": [],
   "source": [
    "def monthlySumsformat2(elec, co2, selected = [\"CISO\", \"MISO\", \"PJM\", \"ERCO\", \"ISNE\", \"AZPS\", \"BPAT\"],\n",
    "                savePlots=False, figFolder=\"\"):\n",
    "    \n",
    "    df_plot = []\n",
    "    for i, data in enumerate([elec, co2]):  \n",
    "        df_plot.append(data.df.loc[:, data.get_cols(selected, field=\"D\")\n",
    "                                  + data.get_cols(selected, field=\"NG\")].copy(deep=True))\n",
    "    \n",
    "    dates = pd.to_datetime([\"2016-%d-1\"% idx for idx in df_plot[0].index.tolist()])\n",
    "    \n",
    "    f, ((ax1, ax2), (ax3, ax4)) = plt.subplots(2, 2, figsize=(3.42*2, 4))\n",
    "    for i, (ax, data, scale, ylab, title) in enumerate(zip(\n",
    "        (ax1,ax2), [elec, co2], [1e-6,1e-6],\n",
    "            [\"TWh\", \"Mtons\"], [\"Energy\", \"Carbon emissions\"])):\n",
    "\n",
    "        for ba in selected:\n",
    "            line, = ax.plot(dates, df_plot[i].loc[:, data.get_cols(ba, field=\"NG\")] * scale,\n",
    "                            label='_nolegend_', alpha=0.5, ls=\"--\", marker='o', markersize=3)\n",
    "            ax.plot(dates, df_plot[i].loc[:, data.get_cols(ba, field=\"D\")] * scale,\n",
    "                    label='_nolegend_', color = line.get_color(), marker='o', markersize=3)\n",
    "        \n",
    "        ax.set_ylabel(ylab)\n",
    "        ax.set_ylim(bottom=0.)\n",
    "        ax.set_title(title)\n",
    "\n",
    "    for ba in selected:\n",
    "        y1 = 1000*(df_plot[1].loc[:, co2.get_cols(ba, field=\"NG\")].values\n",
    "              / df_plot[0].loc[:, elec.get_cols(ba, field=\"NG\")].values)\n",
    "        y2 = 1000*(df_plot[1].loc[:, co2.get_cols(ba, field=\"D\")].values\n",
    "              / df_plot[0].loc[:, elec.get_cols(ba, field=\"D\")].values)\n",
    "        line, = ax3.plot(dates, y1,\n",
    "                        label='_nolegend_', alpha=0.5, ls=\"--\", marker='o', markersize=3)\n",
    "        ax3.plot(dates, y2,\n",
    "                label=ba, color = line.get_color(), marker='o', markersize=3)\n",
    "    \n",
    "    ax3.set_ylabel(\"kg/MWh\")\n",
    "    ax3.set_ylim(bottom=0.)\n",
    "    ax3.set_title(\"Carbon intensity\")\n",
    "        \n",
    "    ax3.plot([], [], c='k', label='Consumption', marker='o', markersize=3)\n",
    "    ax3.plot([], [], c='k', alpha=0.5, label='Production', ls=\"--\", marker='o', markersize=3)\n",
    "    ax3.legend(ncol=2, loc='lower center', bbox_to_anchor=(1.6,0.15))\n",
    "    ax4.axis('off')\n",
    "    \n",
    "    f.autofmt_xdate();\n",
    "    plt.subplots_adjust(hspace=0.25)\n",
    "    \n",
    "    if savePlots:\n",
    "        f.savefig(os.path.join(FIGURE_PATH, 'si/monthly_sums.pdf'), bbox_inches='tight')\n",
    "#         f.savefig(os.path.join(FIGURE_PATH, 'main/monthly_sums2.png'), bbox_inches='tight')\n",
    "        #plt.close(f)\n",
    "\n",
    "selected = [\"CISO\", \"MISO\", \"PJM\", \"ERCO\", \"ISNE\", \"AZPS\", \"BPAT\"]\n",
    "monthlySumsformat2(elec, co2,selected=selected, savePlots=True)"
   ]
  },
  {
   "cell_type": "code",
   "execution_count": null,
   "metadata": {
    "collapsed": true
   },
   "outputs": [],
   "source": []
  },
  {
   "cell_type": "code",
   "execution_count": null,
   "metadata": {
    "collapsed": true
   },
   "outputs": [],
   "source": []
  }
 ],
 "metadata": {
  "anaconda-cloud": {},
  "kernelspec": {
   "display_name": "consumption",
   "language": "python",
   "name": "consumption"
  },
  "language_info": {
   "codemirror_mode": {
    "name": "ipython",
    "version": 3
   },
   "file_extension": ".py",
   "mimetype": "text/x-python",
   "name": "python",
   "nbconvert_exporter": "python",
   "pygments_lexer": "ipython3",
   "version": "3.6.8"
  }
 },
 "nbformat": 4,
 "nbformat_minor": 2
}
