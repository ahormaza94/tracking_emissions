{
 "cells": [
  {
   "cell_type": "markdown",
   "metadata": {},
   "source": [
    "# Contents\n",
    "Data cleaning report for AMPD  - verifying data against eGRID"
   ]
  },
  {
   "cell_type": "code",
   "execution_count": null,
   "metadata": {
    "collapsed": false
   },
   "outputs": [],
   "source": [
    "from IPython.display import HTML\n",
    "\n",
    "HTML('''<script>\n",
    "code_show=true; \n",
    "function code_toggle() {\n",
    " if (code_show){\n",
    " $('div.input').hide();\n",
    " } else {\n",
    " $('div.input').show();\n",
    " }\n",
    " code_show = !code_show\n",
    "} \n",
    "$( document ).ready(code_toggle);\n",
    "</script>\n",
    "<form action=\"javascript:code_toggle()\"><input type=\"submit\" value=\"Click here to toggle on/off the raw code.\"></form>''')"
   ]
  },
  {
   "cell_type": "code",
   "execution_count": null,
   "metadata": {
    "collapsed": true
   },
   "outputs": [],
   "source": [
    "%matplotlib inline\n",
    "import sys\n",
    "import os\n",
    "import time\n",
    "start_time = time.time()\n",
    "\n",
    "DATA_PATH = os.getenv('DATA_PATH')\n",
    "CODE_PATH = os.getenv('CODE_PATH')\n",
    "FIGURE_PATH = os.getenv('FIGURE_PATH')\n",
    "sys.path.insert(0, os.path.join(CODE_PATH, \"tracking_emissions\"))\n",
    "\n",
    "import pandas as pd\n",
    "import numpy as np\n",
    "import json\n",
    "import re\n",
    "import pytz\n",
    "import datetime\n",
    "\n",
    "from src.load import EGRID, AMPD\n",
    "\n",
    "import matplotlib.pyplot as plt\n",
    "\n",
    "import logging.config\n",
    "logging.config.fileConfig(os.path.join(CODE_PATH, \"tracking_emissions/src/logging.conf\"))"
   ]
  },
  {
   "cell_type": "markdown",
   "metadata": {},
   "source": [
    "# Report for cleaning in step 1"
   ]
  },
  {
   "cell_type": "code",
   "execution_count": null,
   "metadata": {
    "collapsed": false
   },
   "outputs": [],
   "source": [
    "# Load result from step 0\n",
    "ampd = AMPD(step=0)\n",
    "\n",
    "# Load egrid data\n",
    "egrid_plnt = EGRID(sheet_name='PLNT16')\n",
    "# Restrict EGRID to states in Con-US\n",
    "print(\"Removing %d plants from eGRID that are in Alaska or Hawaii\" % sum(egrid_plnt.df.PSTATABB.isin(['AK', 'HI'])))\n",
    "egrid_plnt.df = egrid_plnt.df[~egrid_plnt.df.PSTATABB.isin(['AK', 'HI'])]"
   ]
  },
  {
   "cell_type": "markdown",
   "metadata": {},
   "source": [
    "## Dropping AMPD plants that do not have enough timestamps"
   ]
  },
  {
   "cell_type": "code",
   "execution_count": null,
   "metadata": {
    "collapsed": false
   },
   "outputs": [],
   "source": [
    "# Drop the AMPD plants that do not have enough timestamps\n",
    "x = ampd.df.loc[:, [\"ORISPL_CODE\", \"OP_DATE_TIME\"]].groupby(\n",
    "    'ORISPL_CODE').count()\n",
    "to_drop = x.mask(x > 8600).dropna()\n",
    "print(\"AMPD: dropping %d plants out of %d that do not have enough timestamps\" % (\n",
    "        len(to_drop), len(x)))\n",
    "ampd.df = ampd.df[~ampd.df.ORISPL_CODE.isin(to_drop.index.values)]\n",
    "\n",
    "# to_drop has the number of hours that these plants have data for\n",
    "# The plant we are dropping with the most hours is missing 25% of the year\n",
    "display(to_drop.describe())\n",
    "\n",
    "# Try to get more information on the plants we are dropping\n",
    "drop_sum = egrid_plnt.df.loc[egrid_plnt.df.ORISPL.isin(to_drop.index),\n",
    "                             [\"ORISPL\", \"PSTATABB\", \"PNAME\", \"UTLSRVNM\", \"BANAME\",\n",
    "                              \"BACODE\", \"PLFUELCT\", \"NAMEPCAP\", \"PLNGENAN\", \"PLCO2AN\"]]\n",
    "print(\"%d of these plants are referenced in eGRID\" % len(drop_sum))\n",
    "print(\"%d do not have a BACODE field\" % drop_sum.BACODE.isna().sum())\n",
    "print(\"For the 79 others, here is the split by BA:\")\n",
    "print(drop_sum.BACODE.value_counts())\n",
    "print(\"\\nSplit by fuel:\")\n",
    "print(drop_sum.PLFUELCT.value_counts())\n",
    "print(\"\\nAnnual generation divided by number of hours in a year:\")\n",
    "print(drop_sum.PLNGENAN.describe()/8760)\n",
    "print(\"\\nNameplate capacity\")\n",
    "print(drop_sum.NAMEPCAP.describe())\n",
    "print(\"\\nThe 4 plants with a nameplate capacity above 1GW:\")\n",
    "display(drop_sum[drop_sum.NAMEPCAP>1e3])"
   ]
  },
  {
   "cell_type": "markdown",
   "metadata": {},
   "source": [
    "## AMPD plants that are not in eGRID "
   ]
  },
  {
   "cell_type": "code",
   "execution_count": null,
   "metadata": {
    "collapsed": false
   },
   "outputs": [],
   "source": [
    "egrid_orispl = set(egrid_plnt.df.ORISPL.values)\n",
    "ampd_orispl = set(ampd.df.ORISPL_CODE.values)\n",
    "egrid_only = egrid_orispl - ampd_orispl\n",
    "ampd_only = ampd_orispl - egrid_orispl\n",
    "print(\"%d plants are in egrid but not in ampd\" % len(egrid_only))\n",
    "print(\"%d plants are in ampd but not in egrid\" % len(ampd_only))\n",
    "\n",
    "print(\"The ones we are dropping from AMPD:\")\n",
    "display(ampd.df.loc[ampd.df.ORISPL_CODE.isin(ampd_only),\n",
    "                    [\"ORISPL_CODE\", \"STATE\", \"CO2\"]]\\\n",
    "        .groupby([\"ORISPL_CODE\", \"STATE\"]).sum())\n",
    "\n",
    "# Drop the 11 AMPD plants that are not in EGRID\n",
    "ampd.df = ampd.df[~ampd.df.ORISPL_CODE.isin(ampd_only)]\n"
   ]
  },
  {
   "cell_type": "markdown",
   "metadata": {},
   "source": [
    "Plants in eGRID that are not in AMPD: by fuel type and then by fuel type and BA (sorted by number of missing GAS plants)"
   ]
  },
  {
   "cell_type": "code",
   "execution_count": null,
   "metadata": {
    "collapsed": false,
    "scrolled": false
   },
   "outputs": [],
   "source": [
    "print(egrid_plnt.df[egrid_plnt.df.ORISPL.isin(egrid_only)].groupby('PLFUELCT').ORISPL.count())\n",
    "\n",
    "egrid_plnt.df[egrid_plnt.df.ORISPL.isin(egrid_only)]\\\n",
    "    .pivot_table(index='BACODE', columns='PLFUELCT', values='ORISPL',\n",
    "                 aggfunc=lambda x: len(x.unique()))\\\n",
    "    .fillna(0).sort_values(by='GAS', ascending=False).head(20)"
   ]
  },
  {
   "cell_type": "markdown",
   "metadata": {},
   "source": [
    "## Adjusting AMPD plants to match eGRID totals\n",
    "See file `src/AMPD_1.py`. eGRID reports both adjusted and unadjusted data. The steps we take are:\n",
    "* Reconcile AMPD with unadjusted eGRID data\n",
    "* Calculate what the adjustment was on an annual basis from eGRID, and apply that on an hourly basis to AMPD"
   ]
  },
  {
   "cell_type": "markdown",
   "metadata": {},
   "source": [
    "# Report for cleaning in step 2"
   ]
  },
  {
   "cell_type": "code",
   "execution_count": null,
   "metadata": {
    "collapsed": false
   },
   "outputs": [],
   "source": [
    "# Load AMPD data from previous step\n",
    "ampd = AMPD(step=1)\n",
    "\n",
    "# Load egrid data\n",
    "egrid_ba = EGRID(sheet_name='BA16')"
   ]
  },
  {
   "cell_type": "code",
   "execution_count": null,
   "metadata": {
    "collapsed": true
   },
   "outputs": [],
   "source": [
    "# Add BACODE field to ampd.df and sum by BACODE and datetime\n",
    "ampd.df.loc[:, \"BACODE\"] = ampd.df.ORISPL_CODE.map(                         \n",
    "    dict(zip(egrid_plnt.df.ORISPL.values, egrid_plnt.df.BACODE.values)))                                        \n",
    "\n",
    "# Absorb CSTO (1 plant) in BPAT\n",
    "ampd.df.loc[ampd.df.BACODE == 'CSTO', 'BACODE'] = 'BPAT'\n",
    "egrid_plnt.df.loc[egrid_plnt.df.BACODE == 'CSTO', 'BACODE'] = 'BPAT'\n",
    "cols = [col for col in egrid_ba.df.columns if col not in [\"BANAME\", \"BACODE\"]]\n",
    "egrid_ba.df.loc[egrid_ba.df.BACODE == 'BPAT', cols] += egrid_ba.df.loc[\n",
    "    egrid_ba.df.BACODE == 'CSTO', cols].values\n",
    "egrid_ba.df = egrid_ba.df.drop(egrid_ba.df.index[egrid_ba.df.BACODE == 'CSTO'])\n",
    "\n",
    "cols = [\"BACODE\", \"OP_DATE_TIME\", \"CO2\", \"SO2\", \"NOX\"] \n",
    "ampd_ba = ampd.df.loc[:, cols].groupby([\"BACODE\", \"OP_DATE_TIME\"]).sum()       \n",
    "ampd_ba.reset_index(inplace=True)"
   ]
  },
  {
   "cell_type": "code",
   "execution_count": null,
   "metadata": {
    "collapsed": true
   },
   "outputs": [],
   "source": [
    "def getTimezoneInfo():                                                          \n",
    "    fileNm = os.path.join(DATA_PATH, \"raw\", \"ba_tz.xlsx\")\n",
    "    BA_to_tz = pd.read_excel(fileNm)\n",
    "    def get_offset(tz):\n",
    "        if tz == \"Pacific\":\n",
    "            return -8\n",
    "        elif tz == \"Central\":\n",
    "            return -6\n",
    "        elif tz == \"Arizona\":\n",
    "            return -7\n",
    "        elif tz == \"Eastern\":\n",
    "            return -5\n",
    "        elif tz == \"Mountain\":\n",
    "            return -7\n",
    "        else:\n",
    "            return 0\n",
    "    BA_to_tz[\"offset\"] = BA_to_tz.Timezone.apply(get_offset)\n",
    "    BA_to_tz = dict(zip(BA_to_tz.BACODE, BA_to_tz.offset))\n",
    "    return BA_to_tz\n",
    "BA_to_tz = getTimezoneInfo()"
   ]
  },
  {
   "cell_type": "code",
   "execution_count": null,
   "metadata": {
    "collapsed": true
   },
   "outputs": [],
   "source": [
    "ampd_ba.loc[:, 'DATE_TIME_UTC'] = ampd_ba.OP_DATE_TIME\n",
    "for bacode in ampd_ba.BACODE.unique():\n",
    "    ampd_ba.loc[ampd_ba.BACODE==bacode, \"DATE_TIME_UTC\"] -= pd.DateOffset(hours=BA_to_tz[bacode])\n",
    "ampd_ba.drop(columns=['OP_DATE_TIME'], inplace=True)"
   ]
  },
  {
   "cell_type": "code",
   "execution_count": null,
   "metadata": {
    "collapsed": false
   },
   "outputs": [],
   "source": [
    "# Compute annual totals\n",
    "ampd_ba_ann = ampd_ba.groupby('BACODE').sum()\n",
    "\n",
    "ba = egrid_ba.df.loc[:, ['BACODE', 'BACO2AN', 'BASO2AN', 'BANOXAN']]\n",
    "ba.set_index('BACODE', inplace=True)\n",
    "ba.sort_index(inplace=True)\n",
    "ba.columns = [col.replace('BA', '').replace('AN', '') for col in ba.columns]\n",
    "ba.fillna(0., inplace=True)\n",
    "ba.head()\n",
    "\n",
    "print(\"Extra BA rows in the EGRID BA-level data:\\n\")\n",
    "print(ba.index.difference(ampd_ba_ann.index))\n",
    "ba = ba.loc[ampd_ba_ann.index, :]\n",
    "print(ba.index.difference(ampd_ba_ann.index))\n",
    "\n",
    "timesteps = ampd_ba.loc[:, ['BACODE', 'DATE_TIME_UTC']].groupby(\n",
    "    'BACODE').count()\n",
    "print((~(timesteps == 8784)).sum())"
   ]
  },
  {
   "cell_type": "code",
   "execution_count": null,
   "metadata": {
    "collapsed": false
   },
   "outputs": [],
   "source": [
    "# try to reconcile ampd with egrid unadjusted\n",
    "print(ba.index.difference(ampd_ba_ann.index))\n",
    "diff = ba - ampd_ba_ann\n",
    "diff.describe().style.format(\"{:.4g}\")"
   ]
  },
  {
   "cell_type": "markdown",
   "metadata": {},
   "source": [
    "# BA-level adjustment report"
   ]
  },
  {
   "cell_type": "code",
   "execution_count": null,
   "metadata": {
    "collapsed": false
   },
   "outputs": [],
   "source": [
    "# Keep track of the adjustments we are about to make\n",
    "nPlantsPerBA = ampd.df.loc[:, [\"BACODE\", \"ORISPL_CODE\", \"OP_DATE_TIME\"]].groupby(\n",
    "    [\"BACODE\", \"ORISPL_CODE\"]).min().reset_index().groupby(\"BACODE\").count().ORISPL_CODE\n",
    "egrid_totals = egrid_ba.df.loc[:, ['BACODE','BANAME', 'BACO2AN', 'BASO2AN', 'BANOXAN']]\n",
    "egrid_totals.set_index('BACODE', inplace=True)\n",
    "egrid_totals.sort_index(inplace=True)\n",
    "egrid_totals.fillna(0., inplace=True)\n",
    "\n",
    "diff2 = 100* (1 - ampd_ba_ann / ba)\n",
    "\n",
    "adjustmentReport = pd.concat([egrid_totals, nPlantsPerBA, ampd_ba_ann, diff, diff2], axis=1, sort=True)\n",
    "adjustmentReport.columns = [\"NAME\", \"CO2_EGRID\", \"SO2_EGRID\", \"NOX_EGRID\", \"nPlants_AMPD\",\n",
    "                            \"CO2_AMPD\", \"SO2_AMPD\", \"NOX_AMPD\",\n",
    "                            \"CO2_diff\", \"SO2_diff\", \"NOX_diff\",\n",
    "                            \"CO2_percent_diff\", \"SO2_percent_diff\", \"NOX_percent_diff\"]\n",
    "\n",
    "adjustmentReport.to_csv(os.path.join(FIGURE_PATH, \"si\", \"adjustmentReportAMPD.csv\"))\n",
    "\n",
    "adjustmentReport.style.format(\n",
    "    \"{:.4g}\", subset=[col for col in adjustmentReport if col != \"NAME\"])"
   ]
  },
  {
   "cell_type": "code",
   "execution_count": null,
   "metadata": {
    "collapsed": false,
    "scrolled": false
   },
   "outputs": [],
   "source": [
    "print(\"%d BAs have CO2 percent diffs higher than 5%%\" % len(\n",
    "    adjustmentReport[adjustmentReport.CO2_percent_diff>5]))\n",
    "adjustmentReport[adjustmentReport.CO2_percent_diff>5].style.format(\n",
    "    \"{:.4g}\", subset=[col for col in adjustmentReport if col != \"NAME\"])"
   ]
  },
  {
   "cell_type": "markdown",
   "metadata": {},
   "source": [
    "# Investigating the differences"
   ]
  },
  {
   "cell_type": "code",
   "execution_count": null,
   "metadata": {
    "collapsed": false,
    "scrolled": false
   },
   "outputs": [],
   "source": [
    "# The difference here should be due to the plants that are not in AMPD. Check that assumption is correct:\n",
    "egrid_orispl = set(egrid_plnt.df.ORISPL.values)\n",
    "ampd_orispl = set(ampd.df.ORISPL_CODE.values)\n",
    "\n",
    "# Aggregate plant to BA in EGRID\n",
    "plnt_to_ba = egrid_plnt.df.groupby(['BACODE'])['PLCO2AN', 'PLSO2AN', 'PLNOXAN'].sum()\n",
    "plnt_to_ba.columns = [col.replace('PL', '').replace('AN', '') for col in plnt_to_ba.columns]\n",
    "plnt_to_ba.fillna(0., inplace=True)\n",
    "\n",
    "# Aggregate plant to BA in EGRID - AMPD plants only\n",
    "plnt_to_ba2 = egrid_plnt.df[egrid_plnt.df.ORISPL.isin(ampd_orispl)].groupby(\n",
    "    ['BACODE'])['PLCO2AN', 'PLSO2AN', 'PLNOXAN'].sum()\n",
    "plnt_to_ba2.columns = [col.replace('PL', '').replace('AN', '') for col in plnt_to_ba2.columns]\n",
    "plnt_to_ba2.fillna(0., inplace=True)\n",
    "\n",
    "# Recalculate AMPD annual sums \n",
    "ampd_ba_ann = ampd_ba.groupby('BACODE').sum()\n",
    "\n",
    "diff1 = plnt_to_ba2 - ampd_ba_ann\n",
    "print(\"Subset of EGRID plants that are also in AMPD, grouped by BA VS AMPD plants, grouped by BA\")\n",
    "print(\"Difference should be small - units are metric tons\")\n",
    "print(\"Diff:\")\n",
    "display(diff1.describe().style.format(\"{:.4g}\"))\n",
    "\n",
    "diff2 = plnt_to_ba - ba\n",
    "print(\"\\nEGRID PLNT-level grouped by BA VS EGRID BA level\")\n",
    "print(\"Difference should be small - units are metric tons\")\n",
    "print(\"Diff:\")\n",
    "display(diff2.describe())\n",
    "\n",
    "diff3 = (plnt_to_ba2 - plnt_to_ba) / plnt_to_ba *100\n",
    "print(\"\\n% diff: EGRID PLNT-level that are also in AMPD, grouped by BA VS EGRID PLNT-level grouped by BA\")\n",
    "display(diff3.describe().style.format(\"{:.4g}\"))\n",
    "print(\"\\n%d BAs have CO2 diffs bigger than 5%%:\" % len(diff3[(diff3.CO2.abs()>5)]))\n",
    "display(diff3[(diff3.CO2.abs()>5)].style.format(\"{:.4g}\"))\n",
    "# diff3[(diff3.CO2.abs()>5) | (diff3.SO2.abs()>5) | (diff3.NOX.abs()>5)]\n",
    "\n",
    "plnt_to_ba3 = egrid_plnt.df[~egrid_plnt.df.ORISPL.isin(ampd_orispl)].groupby(\n",
    "    ['BACODE'])['PLCO2AN', 'PLSO2AN', 'PLNOXAN'].sum()\n",
    "plnt_to_ba3.columns = [col.replace('PL', '').replace('AN', '') for col in plnt_to_ba3.columns]\n",
    "plnt_to_ba3.fillna(0., inplace=True)\n",
    "\n",
    "diff4 = -plnt_to_ba3 / plnt_to_ba *100\n",
    "print(\"Sanity check of previous result\")\n",
    "print(\"\\n% diff: EGRID PLNT-level that are not in AMPD, grouped by BA VS EGRID PLNT-level grouped by BA\")\n",
    "display(diff4.describe().style.format(\"{:.4g}\"))\n",
    "print(\"\\n%d BAs have CO2 diffs bigger than 5%%\" % len(diff4[(diff4.CO2.abs()>5)]))\n",
    "display(diff4[(diff4.CO2.abs()>5)].style.format(\"{:.4g}\"))"
   ]
  },
  {
   "cell_type": "markdown",
   "metadata": {},
   "source": [
    "## Quick notes\n",
    "* 8 BAs in the second diff - all at 100% correspond to BAs that are not in AMPD at all.\n",
    "\n",
    "# Investigate what is happening for the 11 other BAs\n",
    "## What are the summary stats for the plants with emissions in eGRID that do not report to AMPD?\n",
    "* Which plants/ fuels/ etc.\n",
    "* How much does each type plant represent in the missing emissions?\n",
    "* In particular, how much does CHP represent?"
   ]
  },
  {
   "cell_type": "code",
   "execution_count": null,
   "metadata": {
    "collapsed": false
   },
   "outputs": [],
   "source": [
    "ba_list = [\"AVA\", \"BPAT\", \"CISO\", \"ERCO\", \"FPL\", \"IID\", \"IPCO\", \"ISNE\", \"NEVP\", \"NYIS\", \"PGE\", \"PSEI\"]\n",
    "missing_plants = egrid_plnt.df[(~egrid_plnt.df.ORISPL.isin(ampd_orispl))\n",
    "              & egrid_plnt.df.BACODE.isin(ba_list)\n",
    "              & ((egrid_plnt.df.PLCO2AN > 0) | (egrid_plnt.df.PLSO2AN > 0) | (egrid_plnt.df.PLNOXAN > 0))]\n",
    "print(\"%d plants with emissions in eGRID do not report to AMPD\" % len(missing_plants))\n",
    "print(\"%d are CHP plants\" % (missing_plants.CHPFLAG == 'Yes').sum())"
   ]
  },
  {
   "cell_type": "code",
   "execution_count": null,
   "metadata": {
    "collapsed": false
   },
   "outputs": [],
   "source": [
    "def grouper(x):\n",
    "    BACODE = x.BACODE.unique()\n",
    "    if len(BACODE) != 1:\n",
    "        raise ValueError(\"Oops\")\n",
    "    BACODE = BACODE[0]\n",
    "    \n",
    "    d = {\"ORISPL\":x.ORISPL.count(), \"CHPFLAG\":(x.CHPFLAG==\"Yes\").sum(),\n",
    "         \"PLCO2AN\":x.PLCO2AN.sum(), \"PLSO2AN\":x.PLSO2AN.sum(),\n",
    "         \"PLNOXAN\":x.PLNOXAN.sum(),\n",
    "         \"PLCO2AN_r\":x.PLCO2AN.sum() / ba.loc[BACODE, \"CO2\"],\n",
    "         \"PLSO2AN_r\":x.PLSO2AN.sum() / ba.loc[BACODE, \"SO2\"],\n",
    "         \"PLNOXAN_r\":x.PLNOXAN.sum() / ba.loc[BACODE, \"NOX\"]}\n",
    "    return pd.Series(d)\n",
    "df_tmp = missing_plants.loc[:, [\"BACODE\", \"PLFUELCT\", \"ORISPL\",\n",
    "                       \"CHPFLAG\",\"PLCO2AN\", \"PLSO2AN\",\n",
    "                       \"PLNOXAN\"]].groupby([\n",
    "        \"BACODE\", \"PLFUELCT\"]).apply(grouper)\n",
    "print(\"How much do the missing plants represent?\")\n",
    "print(\"In absolute terms and as a percentage of total EGRID BA-level emissions\")\n",
    "formatter = {**{\"Missing %s\"% poll:\"{:.2%}\" for poll in [\"CO2\", \"SO2\", \"NOX\"]},\n",
    "             **{\"Annual %s\"% poll:\"{:.2g}\" for poll in [\"CO2\", \"SO2\", \"NOX\"]}}\n",
    "df_tmp.columns = [\"# of plants\", \"# of CHP\", \"Annual CO2\", \"Annual SO2\", \"Annual NOX\",\n",
    "                  \"Missing CO2\", \"Missing SO2\", \"Missing NOX\"]\n",
    "df_tmp.style.format(formatter)"
   ]
  },
  {
   "cell_type": "code",
   "execution_count": null,
   "metadata": {
    "collapsed": false
   },
   "outputs": [],
   "source": [
    "# Same as above, but drop the distinction by fuel type\n",
    "df_tmp = missing_plants.loc[:, [\"BACODE\", \"ORISPL\",\n",
    "                       \"CHPFLAG\",\"PLCO2AN\", \"PLSO2AN\",\n",
    "                       \"PLNOXAN\"]].groupby([\"BACODE\"]).apply(grouper)\n",
    "formatter = {**{\"Missing %s\"% poll:\"{:.2%}\" for poll in [\"CO2\", \"SO2\", \"NOX\"]},\n",
    "             **{\"Annual %s\"% poll:\"{:.2g}\" for poll in [\"CO2\", \"SO2\", \"NOX\"]}}\n",
    "df_tmp.columns = [\"# of plants\", \"# of CHP\", \"Annual CO2\", \"Annual SO2\", \"Annual NOX\",\n",
    "                  \"Missing CO2\", \"Missing SO2\", \"Missing NOX\"]\n",
    "df_tmp.style.format(formatter)"
   ]
  },
  {
   "cell_type": "markdown",
   "metadata": {},
   "source": [
    "## Deep dive on California plants"
   ]
  },
  {
   "cell_type": "code",
   "execution_count": null,
   "metadata": {
    "collapsed": false
   },
   "outputs": [],
   "source": [
    "missing_plants.head()"
   ]
  },
  {
   "cell_type": "code",
   "execution_count": null,
   "metadata": {
    "collapsed": false
   },
   "outputs": [],
   "source": [
    "# Get the list of missing plants in California - first 40 ordered by CO2 emissions\n",
    "df_tmp = missing_plants.loc[missing_plants.BACODE==\"CISO\", [\n",
    "        \"BACODE\", \"ORISPL\", \"CHPFLAG\",\"PLFUELCT\",\"PLCO2AN\", \"PLSO2AN\",\n",
    "        \"PLNOXAN\", \"PNAME\"]].sort_values(by=\"PLCO2AN\", ascending=False).head(40)\n",
    "print(\"Printing data for %d plants, sorted by CO2\" % len(df_tmp))\n",
    "formatter = {\"Annual %s\"% poll:\"{:.2g}\" for poll in [\"CO2\", \"SO2\", \"NOX\"]}\n",
    "df_tmp.columns = [\"BA\", \"ORISPL\", \"CHP Flag\", \"Fuel\", \"Annual CO2\", \"Annual SO2\",\n",
    "                  \"Annual NOX\", \"Plant name\"]\n",
    "df_tmp.style.format(formatter)"
   ]
  },
  {
   "cell_type": "code",
   "execution_count": null,
   "metadata": {
    "collapsed": false
   },
   "outputs": [],
   "source": [
    "# Get the list of missing plants in California - first 40 ordered by NOx emissions\n",
    "df_tmp = missing_plants.loc[missing_plants.BACODE==\"CISO\", [\n",
    "        \"BACODE\", \"ORISPL\", \"CHPFLAG\",\"PLFUELCT\",\"PLCO2AN\", \"PLSO2AN\",\n",
    "        \"PLNOXAN\", \"PNAME\"]].sort_values(by=\"PLNOXAN\", ascending=False).head(20)\n",
    "formatter = {\"Annual %s\"% poll:\"{:.2g}\" for poll in [\"CO2\", \"SO2\", \"NOX\"]}\n",
    "print(\"Printing data for %d plants, sorted by NOX emissions\" % len(df_tmp))\n",
    "print(\"\\nSums\")\n",
    "df_tmp.columns = [\"BA\", \"ORISPL\", \"CHP Flag\", \"Fuel\", \"Annual CO2\", \"Annual SO2\",\n",
    "                  \"Annual NOX\", \"Plant name\"]\n",
    "print(df_tmp.loc[:, [\"Annual CO2\", \"Annual SO2\", \"Annual NOX\"]].sum())\n",
    "print(\"\\nDetail\")\n",
    "df_tmp.style.format(formatter)\n"
   ]
  },
  {
   "cell_type": "code",
   "execution_count": null,
   "metadata": {
    "collapsed": false
   },
   "outputs": [],
   "source": [
    "# Missing plants that are not CHP\n",
    "df_tmp = missing_plants.loc[(missing_plants.BACODE==\"CISO\") & (missing_plants.CHPFLAG!=\"Yes\"), [\n",
    "        \"BACODE\", \"ORISPL\", \"CHPFLAG\",\"PLFUELCT\",\"PLCO2AN\", \"PLSO2AN\",\n",
    "        \"PLNOXAN\", \"PNAME\"]].sort_values(by=\"PLNOXAN\", ascending=False)\n",
    "\n",
    "formatter = {\"Annual %s\"% poll:\"{:.2g}\" for poll in [\"CO2\", \"SO2\", \"NOX\"]}\n",
    "print(\"Printing data for %d plants, sorted by NOX emissions\" % len(df_tmp))\n",
    "print(\"\\nSums\")\n",
    "df_tmp.columns = [\"BA\", \"ORISPL\", \"CHP Flag\", \"Fuel\", \"Annual CO2\", \"Annual SO2\",\n",
    "                  \"Annual NOX\", \"Plant name\"]\n",
    "print(df_tmp.loc[:, [\"Annual CO2\", \"Annual SO2\", \"Annual NOX\"]].sum())\n",
    "print(\"\\nDetail\")\n",
    "df_tmp.style.format(formatter)"
   ]
  },
  {
   "cell_type": "code",
   "execution_count": null,
   "metadata": {
    "collapsed": false
   },
   "outputs": [],
   "source": [
    "# Missing plants that are in Nevada\n",
    "df_tmp = missing_plants.loc[(missing_plants.BACODE==\"CISO\") & (missing_plants.PSTATABB==\"NV\"), [\n",
    "        \"BACODE\", \"ORISPL\", \"CHPFLAG\",\"PLFUELCT\",\"PLCO2AN\", \"PLSO2AN\",\n",
    "        \"PLNOXAN\", \"PNAME\"]].sort_values(by=\"PLNOXAN\", ascending=False)\n",
    "\n",
    "formatter = {\"Annual %s\"% poll:\"{:.2g}\" for poll in [\"CO2\", \"SO2\", \"NOX\"]}\n",
    "print(\"Printing data for %d plants, sorted by NOX emissions\" % len(df_tmp))\n",
    "print(\"\\nSums\")\n",
    "df_tmp.columns = [\"BA\", \"ORISPL\", \"CHP Flag\", \"Fuel\", \"Annual CO2\", \"Annual SO2\",\n",
    "                  \"Annual NOX\", \"Plant name\"]\n",
    "print(df_tmp.loc[:, [\"Annual CO2\", \"Annual SO2\", \"Annual NOX\"]].sum())\n",
    "print(\"\\nDetail\")\n",
    "df_tmp.style.format(formatter)"
   ]
  },
  {
   "cell_type": "markdown",
   "metadata": {},
   "source": [
    "## Deep dive on NYIS plants"
   ]
  },
  {
   "cell_type": "code",
   "execution_count": null,
   "metadata": {
    "collapsed": false
   },
   "outputs": [],
   "source": [
    "# Get the list of missing plants in NYISO - ordered by CO2 emissions\n",
    "df_tmp = missing_plants.loc[missing_plants.BACODE==\"NYIS\", [\n",
    "        \"BACODE\", \"ORISPL\", \"CHPFLAG\",\"PLFUELCT\",\"PLCO2AN\", \"PLSO2AN\",\n",
    "        \"PLNOXAN\", \"PNAME\"]].sort_values(by=\"PLCO2AN\", ascending=False).head(20)\n",
    "formatter = {\"Annual %s\"% poll:\"{:.2g}\" for poll in [\"CO2\", \"SO2\", \"NOX\"]}\n",
    "df_tmp.columns = [\"BA\", \"ORISPL\", \"CHP Flag\", \"Fuel\", \"Annual CO2\", \"Annual SO2\",\n",
    "                  \"Annual NOX\", \"Plant name\"]\n",
    "df_tmp.style.format(formatter)"
   ]
  },
  {
   "cell_type": "markdown",
   "metadata": {},
   "source": [
    "## Deep dive on ERCO plants"
   ]
  },
  {
   "cell_type": "code",
   "execution_count": null,
   "metadata": {
    "collapsed": false
   },
   "outputs": [],
   "source": [
    "# Get the list of missing plants in ERCO - ordered by CO2 emissions\n",
    "df_tmp = missing_plants.loc[missing_plants.BACODE==\"ERCO\", [\n",
    "        \"BACODE\", \"ORISPL\", \"CHPFLAG\",\"PLFUELCT\",\"PLCO2AN\", \"PLSO2AN\",\n",
    "        \"PLNOXAN\", \"PNAME\"]].sort_values(by=\"PLCO2AN\", ascending=False).head(20)\n",
    "formatter = {\"Annual %s\"% poll:\"{:.2g}\" for poll in [\"CO2\", \"SO2\", \"NOX\"]}\n",
    "df_tmp.columns = [\"BA\", \"ORISPL\", \"CHP Flag\", \"Fuel\", \"Annual CO2\", \"Annual SO2\",\n",
    "                  \"Annual NOX\", \"Plant name\"]\n",
    "df_tmp.style.format(formatter)"
   ]
  }
 ],
 "metadata": {
  "anaconda-cloud": {},
  "kernelspec": {
   "display_name": "Python 3",
   "language": "python",
   "name": "python3"
  },
  "language_info": {
   "codemirror_mode": {
    "name": "ipython",
    "version": 3
   },
   "file_extension": ".py",
   "mimetype": "text/x-python",
   "name": "python",
   "nbconvert_exporter": "python",
   "pygments_lexer": "ipython3",
   "version": "3.6.6"
  }
 },
 "nbformat": 4,
 "nbformat_minor": 2
}
