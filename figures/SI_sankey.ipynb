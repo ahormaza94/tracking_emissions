{
 "cells": [
  {
   "cell_type": "code",
   "execution_count": 1,
   "metadata": {
    "collapsed": true
   },
   "outputs": [],
   "source": [
    "%matplotlib inline\n",
    "import sys\n",
    "import os\n",
    "DATA_PATH = os.getenv('DATA_PATH')\n",
    "CODE_PATH = os.getenv('CODE_PATH')\n",
    "FIGURE_PATH = os.getenv('FIGURE_PATH')\n",
    "\n",
    "sys.path.insert(0, os.path.join(CODE_PATH))\n",
    "\n",
    "import pandas as pd\n",
    "import numpy as np\n",
    "import json\n",
    "import re\n",
    "\n",
    "import time\n",
    "\n",
    "from src.load import EGRID, BA_DATA\n",
    "\n",
    "import matplotlib\n",
    "import matplotlib.pyplot as plt\n",
    "import seaborn as sns\n",
    "\n",
    "from calendar import month_abbr\n",
    "\n",
    "import logging.config\n",
    "logging.config.fileConfig(os.path.join(CODE_PATH, \"src/logging.conf\"))\n",
    "logger = logging.getLogger(__name__)"
   ]
  },
  {
   "cell_type": "code",
   "execution_count": 2,
   "metadata": {
    "collapsed": true
   },
   "outputs": [],
   "source": [
    "plt.style.use('seaborn-paper')\n",
    "plt.rcParams['figure.figsize'] = [6.99, 2.5]\n",
    "plt.rcParams['grid.color'] = 'k'\n",
    "plt.rcParams['axes.grid'] = True\n",
    "plt.rcParams['grid.linestyle'] = ':'\n",
    "plt.rcParams['grid.linewidth'] = 0.5\n",
    "plt.rcParams[\"figure.dpi\"] = 200\n",
    "plt.rcParams[\"figure.dpi\"] = 200\n",
    "plt.rcParams['font.size'] = 10\n",
    "\n",
    "import cmocean\n",
    "cmap = cmocean.cm.cmap_d['phase']\n",
    "COLORS = sns.color_palette('colorblind')"
   ]
  },
  {
   "cell_type": "code",
   "execution_count": 3,
   "metadata": {
    "collapsed": true
   },
   "outputs": [],
   "source": [
    "# Make sure directory exists\n",
    "os.makedirs(os.path.join(FIGURE_PATH, \"si\", \"sankey\"), exist_ok=True)"
   ]
  },
  {
   "cell_type": "code",
   "execution_count": 4,
   "metadata": {
    "collapsed": false
   },
   "outputs": [
    {
     "name": "stdout",
     "output_type": "stream",
     "text": [
      "WALC: netP < 0\n",
      "BANC: netP < 0\n",
      "BPAT: netP < 0\n",
      "IPCO: netP < 0\n",
      "LDWP: netP < 0\n",
      "WALC: netP < 0\n",
      "WALC: netP < 0\n"
     ]
    }
   ],
   "source": [
    "# Version 2\n",
    "\n",
    "var = \"CO2\"\n",
    "for var in [\"CO2\", \"SO2\", \"NOX\"]:\n",
    "    poll = BA_DATA(fileNm=os.path.join(DATA_PATH, \"analysis/SEED_%s_Y.csv\" % var), variable=var)\n",
    "    poll.df.index=[2016]\n",
    "\n",
    "    poll_scalings = {\"CO2\": 1e-6, \"SO2\": 1e-3, \"NOX\": 1e-3}\n",
    "    poll_units = {\"CO2\": \"Mtons\", \"SO2\": \"ktons\", \"NOX\": \"ktons\"}\n",
    "    poll_scaling = poll_scalings[var]\n",
    "\n",
    "    # helper functions\n",
    "    def get_import_export_bas(poll, ba):\n",
    "        importers = []\n",
    "        exporters = []\n",
    "        for ba2 in poll.get_trade_partners(ba):\n",
    "            if poll.df.loc[:,poll.KEY[\"ID\"]%(ba, ba2)].values[0] < 0:\n",
    "                importers.append(ba2)\n",
    "            else:\n",
    "                exporters.append(ba2)\n",
    "        return (importers, exporters)\n",
    "\n",
    "    def get_netP(poll, ba):\n",
    "        TI_I = -poll.df.loc[:, [poll.KEY[\"ID\"]%(ba, ba2) for ba2 in get_import_export_bas(poll, ba)[0]]].sum(axis=1)\n",
    "        TI_E = poll.df.loc[:, [poll.KEY[\"ID\"]%(ba, ba2) for ba2 in get_import_export_bas(poll, ba)[1]]].sum(axis=1)\n",
    "        TI = poll.df.loc[:, poll.KEY[\"TI\"]%ba]\n",
    "        C = poll.df.loc[:, poll.KEY[\"D\"]%ba]\n",
    "        P = poll.df.loc[:, poll.KEY[\"NG\"]%ba]\n",
    "        if (P-TI_E - (C-TI_I)).values[0]>1e-2:\n",
    "            print(\"%s: something is wrong\" % ba)\n",
    "        return (P-TI_E).values[0]\n",
    "\n",
    "    regions = [\n",
    "        \"AVA\", \"AZPS\",\"BANC\", \"BPAT\",\"CHPD\",\n",
    "        \"CISO\", \"DEAA\", \"DOPD\", \"EPE\", \"GCPD\", \"GRMA\", \"GWA\",\n",
    "        \"HGMA\", \"IID\", \"IPCO\", \"LDWP\", \"NEVP\", \"NWMT\",\n",
    "        \"PACE\", \"PACW\", \"PGE\", \"PNM\", \"PSCO\",\n",
    "        \"PSEI\", \"SCL\", \"SRP\", \"TEPC\",\"TIDC\",\n",
    "        \"TPWR\", \"WACM\", \"WALC\", \"WAUW\", \"WWA\"]\n",
    "    exclude_bas = [\"SCL\", \"CHPD\", \"DOPD\", \"GCPD\", \"TPWR\",\n",
    "                   \"WAUW\", \"TIDC\", \"PACW\", \"PGE\", \"PSEI\",\n",
    "                  \"IID\", 'AVA', 'DEAA', 'GWA', 'HGMA', 'WWA']\n",
    "    regions = [ba for ba in regions if ba not in exclude_bas]\n",
    "\n",
    "    graph = {}\n",
    "\n",
    "    links = []\n",
    "\n",
    "    wierdos = []  # BAs with negative netP\n",
    "    for ba in regions:\n",
    "        netP = get_netP(poll, ba)\n",
    "        if netP > 0 :\n",
    "            links += [{\"source\":ba+\" (P)\", \"target\":ba+\" (C)\",\n",
    "                               \"value\":netP * poll_scaling}]\n",
    "        else:\n",
    "            wierdos += [ba]\n",
    "            print(\"%s: netP < 0\" % ba)\n",
    "\n",
    "    for i in range(len(regions)):\n",
    "        for j in range(i, len(regions)):\n",
    "            from_ba = regions[i]\n",
    "            to_ba = regions[j]\n",
    "            if ((poll.KEY[\"ID\"] % (from_ba, to_ba) in poll.df.columns)\n",
    "                    & (poll.KEY[\"ID\"] % (to_ba, from_ba) in poll.df.columns)):\n",
    "                co2_transfer = poll.df.loc[:, poll.KEY[\"ID\"] % (from_ba, to_ba)].values[0]\n",
    "                if co2_transfer < 0: # Have this be positive\n",
    "                    from_ba = regions[j]\n",
    "                    to_ba = regions[i]\n",
    "                    co2_transfer = poll.df.loc[:, poll.KEY[\"ID\"] % (from_ba, to_ba)].values[0]\n",
    "                src_txt = \"%s (P)\" % from_ba\n",
    "                if from_ba in wierdos:\n",
    "                    src_txt = \"%s* (P)\" % from_ba\n",
    "                targ_txt = \"%s (C)\" % to_ba\n",
    "                if to_ba in wierdos:\n",
    "                    targ_txt = \"%s* (C)\" % to_ba\n",
    "                links += [{\"source\": src_txt, \"target\": targ_txt,\n",
    "                           \"value\": co2_transfer * poll_scaling}]\n",
    "\n",
    "    graph[\"links\"] = links\n",
    "\n",
    "    nodes = []\n",
    "    for link in links:\n",
    "        nodes.append(link[\"source\"])\n",
    "        nodes.append(link[\"target\"])\n",
    "\n",
    "    graph[\"nodes\"] = [{\"name\":n} for n in np.unique(nodes)]\n",
    "\n",
    "    graph[\"units\"] = poll_units[var]\n",
    "\n",
    "    graph[\"totalD\"] = poll.df.loc[:, poll.get_cols(regions, \"D\")].sum().sum() * poll_scaling\n",
    "    graph[\"totalG\"] = poll.df.loc[:, poll.get_cols(regions, \"NG\")].sum().sum() * poll_scaling\n",
    "    graph[\"var\"] = var\n",
    "    \n",
    "    graphPath_out = os.path.join(\"sankey\", \"data\", \"data_%s.json\" % var)\n",
    "    with open(graphPath_out, 'w') as fw:\n",
    "        json.dump(graph, fw)\n",
    "\n",
    "    # Also save a copy to the FIGURE_PATH folder\n",
    "    graphPath_out2 = os.path.join(FIGURE_PATH, \"si\", \"sankey\", \"data_%s.json\" % var)\n",
    "    with open(graphPath_out2, 'w') as fw:\n",
    "        json.dump(graph, fw)"
   ]
  },
  {
   "cell_type": "code",
   "execution_count": 5,
   "metadata": {
    "collapsed": false
   },
   "outputs": [
    {
     "data": {
      "text/plain": [
       "228.76443141715646"
      ]
     },
     "execution_count": 5,
     "metadata": {},
     "output_type": "execute_result"
    }
   ],
   "source": [
    "poll.df.loc[:, poll.get_cols(regions, \"D\")].sum().sum() * poll_scaling"
   ]
  },
  {
   "cell_type": "markdown",
   "metadata": {},
   "source": [
    "# Add in production and consumption.\n",
    "To do that, need to calculate $production - exports$ and $consumption -imports$. Recalculate TI_E and TI_I to do this"
   ]
  },
  {
   "cell_type": "code",
   "execution_count": 6,
   "metadata": {
    "collapsed": false
   },
   "outputs": [
    {
     "data": {
      "text/plain": [
       "233.90365119949738"
      ]
     },
     "execution_count": 6,
     "metadata": {},
     "output_type": "execute_result"
    }
   ],
   "source": [
    "poll.df.loc[:,poll.get_cols(regions, \"NG\")].sum().sum() * poll_scaling"
   ]
  },
  {
   "cell_type": "code",
   "execution_count": 7,
   "metadata": {
    "collapsed": false
   },
   "outputs": [
    {
     "data": {
      "text/plain": [
       "241.55093978534333"
      ]
     },
     "execution_count": 7,
     "metadata": {},
     "output_type": "execute_result"
    }
   ],
   "source": [
    "poll.df.loc[:,poll.get_cols(regions+exclude_bas, \"NG\")].sum().sum() * poll_scaling"
   ]
  },
  {
   "cell_type": "code",
   "execution_count": 8,
   "metadata": {
    "collapsed": false
   },
   "outputs": [
    {
     "name": "stdout",
     "output_type": "stream",
     "text": [
      "Fraction of NOX emitted: 96.83\n"
     ]
    }
   ],
   "source": [
    "print(\"Fraction of %s emitted: %.2f\" % (var,\n",
    "    100*poll.df.loc[:,poll.get_cols(regions, \"NG\")].sum().sum()\n",
    "    / poll.df.loc[:,poll.get_cols(regions+exclude_bas, \"NG\")].sum().sum()))"
   ]
  },
  {
   "cell_type": "code",
   "execution_count": 9,
   "metadata": {
    "collapsed": true
   },
   "outputs": [],
   "source": [
    "ba = \"CISO\"\n",
    "TI_I = -poll.df.loc[:, [poll.KEY[\"ID\"]%(ba, ba2) for ba2 in get_import_export_bas(poll, ba)[0]]].sum(axis=1)\n",
    "TI_E = poll.df.loc[:, [poll.KEY[\"ID\"]%(ba, ba2) for ba2 in get_import_export_bas(poll, ba)[1]]].sum(axis=1)\n",
    "TI = poll.df.loc[:, poll.KEY[\"TI\"]%ba]\n",
    "C = poll.df.loc[:, poll.KEY[\"D\"]%ba]\n",
    "P = poll.df.loc[:, poll.KEY[\"NG\"]%ba]"
   ]
  },
  {
   "cell_type": "code",
   "execution_count": 10,
   "metadata": {
    "collapsed": false
   },
   "outputs": [
    {
     "data": {
      "text/plain": [
       "2016    18.223121\n",
       "dtype: float64"
      ]
     },
     "execution_count": 10,
     "metadata": {},
     "output_type": "execute_result"
    }
   ],
   "source": [
    "TI_I * poll_scaling"
   ]
  },
  {
   "cell_type": "code",
   "execution_count": 11,
   "metadata": {
    "collapsed": false
   },
   "outputs": [
    {
     "data": {
      "text/plain": [
       "2016    0.410319\n",
       "dtype: float64"
      ]
     },
     "execution_count": 11,
     "metadata": {},
     "output_type": "execute_result"
    }
   ],
   "source": [
    "TI_E * poll_scaling"
   ]
  },
  {
   "cell_type": "code",
   "execution_count": 12,
   "metadata": {
    "collapsed": false
   },
   "outputs": [
    {
     "data": {
      "text/plain": [
       "2016    40.846392\n",
       "Name: NOX_CISO_NG, dtype: float64"
      ]
     },
     "execution_count": 12,
     "metadata": {},
     "output_type": "execute_result"
    }
   ],
   "source": [
    "P * poll_scaling"
   ]
  },
  {
   "cell_type": "code",
   "execution_count": 13,
   "metadata": {
    "collapsed": false
   },
   "outputs": [
    {
     "data": {
      "text/plain": [
       "2016    58.659194\n",
       "Name: NOX_CISO_D, dtype: float64"
      ]
     },
     "execution_count": 13,
     "metadata": {},
     "output_type": "execute_result"
    }
   ],
   "source": [
    "C * poll_scaling"
   ]
  }
 ],
 "metadata": {
  "anaconda-cloud": {},
  "kernelspec": {
   "display_name": "Python [default]",
   "language": "python",
   "name": "python3"
  },
  "language_info": {
   "codemirror_mode": {
    "name": "ipython",
    "version": 3
   },
   "file_extension": ".py",
   "mimetype": "text/x-python",
   "name": "python",
   "nbconvert_exporter": "python",
   "pygments_lexer": "ipython3",
   "version": "3.5.6"
  }
 },
 "nbformat": 4,
 "nbformat_minor": 2
}
